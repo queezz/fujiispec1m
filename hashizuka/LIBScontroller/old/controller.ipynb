{
 "cells": [
  {
   "cell_type": "code",
   "execution_count": 1,
   "metadata": {},
   "outputs": [],
   "source": [
    "import serial, time\n",
    "from tools import *\n",
    "\n",
    "#シリアル設定\n",
    "port = \"COM3\"\n",
    "speed = 9600\n",
    "try:\n",
    "    ser = serial.Serial(port,speed)\n",
    "except:\n",
    "    pass"
   ]
  },
  {
   "cell_type": "code",
   "execution_count": 2,
   "metadata": {},
   "outputs": [
    {
     "name": "stdout",
     "output_type": "stream",
     "text": [
      "initialized + 5437,+ 5636, as +    0,+    0,\n"
     ]
    }
   ],
   "source": [
    "#初期化：原点設定\n",
    "#機械原点を基準とした最大パルス値は+8862,+8541\n",
    "initial_point = (5437,5636)\n",
    "initializer(ser,initial_point)"
   ]
  },
  {
   "cell_type": "code",
   "execution_count": 5,
   "metadata": {},
   "outputs": [],
   "source": [
    "try:\n",
    "    membrane_pos(ser, (12.5,0)) # x:-12.5 - 12.5, y:-12.5 - 12.5\n",
    "except KeyboardInterrupt:\n",
    "    stop(ser)\n",
    "    time.sleep(1)\n",
    "    nowpos = get_info(ser).decode()[:14]\n",
    "    print(f'finished, stoped at {nowpos}')"
   ]
  }
 ],
 "metadata": {
  "kernelspec": {
   "display_name": "Python 3.8.10 ('base')",
   "language": "python",
   "name": "python3"
  },
  "language_info": {
   "codemirror_mode": {
    "name": "ipython",
    "version": 3
   },
   "file_extension": ".py",
   "mimetype": "text/x-python",
   "name": "python",
   "nbconvert_exporter": "python",
   "pygments_lexer": "ipython3",
   "version": "3.9.12"
  },
  "orig_nbformat": 4,
  "vscode": {
   "interpreter": {
    "hash": "71e36c4240c76afb3a086c00536e9b61d9afb70c881fb97c7e623c489fff43ee"
   }
  }
 },
 "nbformat": 4,
 "nbformat_minor": 2
}
