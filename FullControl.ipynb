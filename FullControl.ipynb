{
 "cells": [
  {
   "cell_type": "markdown",
   "metadata": {},
   "source": [
    "# Spectra acquisiton\n",
    "Control both the stepping motor and the camera from this notebook."
   ]
  },
  {
   "cell_type": "code",
   "execution_count": 1,
   "metadata": {},
   "outputs": [
    {
     "name": "stdout",
     "output_type": "stream",
     "text": [
      "Populating the interactive namespace from numpy and matplotlib\n"
     ]
    }
   ],
   "source": [
    "%pylab inline"
   ]
  },
  {
   "cell_type": "code",
   "execution_count": 2,
   "metadata": {},
   "outputs": [],
   "source": [
    "from FLI import FLI\n",
    "import numpy as np\n",
    "import thr640\n",
    "import time\n",
    "import logging\n",
    "import csv\n",
    "import xarray as xr"
   ]
  },
  {
   "cell_type": "code",
   "execution_count": 3,
   "metadata": {},
   "outputs": [],
   "source": [
    "# logger\n",
    "logger = thr640.logger\n",
    "camera = FLI()\n",
    "step_motor = thr640.THR640()"
   ]
  },
  {
   "cell_type": "code",
   "execution_count": null,
   "metadata": {},
   "outputs": [],
   "source": [
    "#step_motor.goto(490000)\n",
    "#step_motor.waitUntilReady()"
   ]
  },
  {
   "cell_type": "code",
   "execution_count": 5,
   "metadata": {},
   "outputs": [],
   "source": [
    "%run imaging_tool.py\n",
    "\n",
    "exposure = 1 * 1e3 # ms\n",
    "vbin = 1\n",
    "attributes = {\n",
    "    \"temperature\": camera.getTemperature(),\n",
    "    \"device_status\": camera.getDeviceStatus(),\n",
    "    \"exposure\": exposure,\n",
    "    \"frame_type\": \"light\",\n",
    "}\n",
    "\n",
    "camera.setExposureTime(exposure)\n",
    "camera.setVBin(vbin)\n",
    "camera.setImageArea(10,0,2058,512//vbin)\n",
    "time.sleep(.5)\n",
    "camera.exposeFrame()\n",
    "time.sleep(.1)\n",
    "# load image\n",
    "image_data = camera.grabFrame(out=np.empty((512//vbin,2048), np.uint16))\n",
    "# convert to xarray\n",
    "data = xr.DataArray(\n",
    "    image_data, dims=[\"y\", \"x\"], coords={\"image_counter\": 0}, attrs=attributes\n",
    ")\n",
    "# save data as NetCDF file\n",
    "filepath = 'test.nc'\n",
    "data.to_netcdf(filepath)"
   ]
  },
  {
   "cell_type": "code",
   "execution_count": 9,
   "metadata": {},
   "outputs": [
    {
     "data": {
      "text/plain": [
       "<matplotlib.image.AxesImage at 0x21cd7305bc8>"
      ]
     },
     "execution_count": 9,
     "metadata": {},
     "output_type": "execute_result"
    },
    {
     "data": {
      "image/png": "[encoded data removed]",
      "text/plain": [
       "<Figure size 432x288 with 1 Axes>"
      ]
     },
     "metadata": {
      "needs_background": "light"
     },
     "output_type": "display_data"
    }
   ],
   "source": [
    "ds_disk = xr.open_dataset(filepath)\n",
    "a = ds_disk.to_array()\n",
    "imshow(a[0])"
   ]
  }
 ],
 "metadata": {
  "kernelspec": {
   "display_name": "Python 3",
   "language": "python",
   "name": "python3"
  },
  "language_info": {
   "codemirror_mode": {
    "name": "ipython",
    "version": 3
   },
   "file_extension": ".py",
   "mimetype": "text/x-python",
   "name": "python",
   "nbconvert_exporter": "python",
   "pygments_lexer": "ipython3",
   "version": "3.7.6"
  }
 },
 "nbformat": 4,
 "nbformat_minor": 4
}
