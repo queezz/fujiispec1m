{
 "cells": [
  {
   "cell_type": "code",
   "execution_count": 90,
   "metadata": {},
   "outputs": [
    {
     "name": "stdout",
     "output_type": "stream",
     "text": [
      "1 XL430-W250\n",
      "0 NONE\n"
     ]
    }
   ],
   "source": [
    "# 2軸へ角速度指令 434.05 nm Calibration\n",
    "import numpy as np\n",
    "import pyautogui\n",
    "import sys, time\n",
    "import pandas as pd\n",
    "import matplotlib.pyplot as plt\n",
    "from dx2lib import *  # dx2libをインポート\n",
    "\n",
    "COMPort = b'\\\\\\\\.\\\\COM4'  # 任意のCOMポート名に修正の事\n",
    "Baudrate = 57600          # Dynamixelのボーレートと合わせる事\n",
    "TargetID1 = 1             # 1台目のDynamixelのIDと合わせる事\n",
    "#TargetID2 = 2             # 2台目のDynamixelのIDと合わせる事\n",
    "\n",
    "#---------------------------------------------\n",
    "# (1) ポートを開いてdevを取得(必須)\n",
    "dev = DX2_OpenPort(COMPort, Baudrate)\n",
    "if dev != None:\n",
    "  # (2) IDの一覧\n",
    "  IDs = (c_uint8 * 2)(TargetID1)\n",
    "  #IDs = (c_uint8 * 2)(TargetID1, TargetID2)\n",
    "  # (3) 指定IDのモデル情報を取得しモデル名を表示\n",
    "  #   いちいちモデル名を表示する必要は無いが、情報取得のついでに表示\n",
    "  #   また、ここでは情報の取得ができたかの確認をしていない\n",
    "  for id in IDs:\n",
    "    print(id, DXL_GetModelInfo(dev,id).contents.name.decode())\n",
    "\n",
    "  # (4) DynamixelをVelocityモード=1に変更\n",
    "  DXL_SetOperatingModesEquival(dev, IDs, 2, 4)\n",
    "  # (5) トルクイネーブル(必須)\n",
    "  DXL_SetTorqueEnablesEquival(dev, IDs, 2, True)\n",
    "\n",
    "  # (6) 2軸分の角速度[deg/sec]と時間待ちを順次指令\n",
    "  StartAngle = 5700\n",
    "  EndAngle =5750\n",
    "  Resolution = 3\n",
    "  DXL_SetGoalAngle(dev, TargetID1, StartAngle)\n",
    "  time.sleep(2)\n",
    "  i = 0\n",
    "  for i in np.arange(StartAngle, EndAngle, Resolution):\n",
    "#   for i in a:\n",
    "    DXL_SetGoalAngle(dev, TargetID1, i)\n",
    "    #DXL_SetGoalAngle(dev, TargetID2,  i)\n",
    "    time.sleep(0.5)\n",
    "\n",
    "#   DXL_SetGoalAngle(dev, TargetID1,  i)\n",
    "#   DXL_SetGoalAngle(dev, TargetID2,  i)\n",
    "#   time.sleep(5)\n",
    "\n",
    "  \n",
    "  # (7) トルクイネーブルディスエーブル(必要に応じて)\n",
    "  DXL_SetTorqueEnablesEquival(dev, IDs, 2, False)\n",
    "\n",
    "  # (8) ポートを閉じる(必須)\n",
    "  DX2_ClosePort(dev)\n",
    "else:\n",
    "  print('Could not open COM port.')\n"
   ]
  },
  {
   "cell_type": "code",
   "execution_count": 88,
   "metadata": {
    "scrolled": true
   },
   "outputs": [
    {
     "name": "stdout",
     "output_type": "stream",
     "text": [
      "1 XL430-W250\n",
      "0 NONE\n",
      "[5700.0, 5702.4, 5704.799999999999, 5707.199999999999, 5709.5999999999985, 5711.999999999998, 5714.399999999998, 5716.799999999997, 5719.199999999997, 5721.599999999997, 5723.999999999996, 5726.399999999996, 5728.799999999996, 5731.199999999995, 5733.599999999995, 5735.9999999999945, 5738.399999999994, 5740.799999999994, 5743.199999999993, 5745.599999999993, 5747.999999999993, 5750.399999999992, 5752.799999999992, 5755.199999999992, 5757.599999999991]\n",
      "[array([0.00039282]), array([0.00035032]), array([0.00040907]), array([0.00054156]), array([0.00048283]), array([0.00048283]), array([0.00071659]), array([0.00071659]), array([0.0009441]), array([0.00118038]), array([0.00188667]), array([0.00961712]), array([0.03563547]), array([0.00725988]), array([0.00167289]), array([0.00097066]), array([0.00097066]), array([0.00059471]), array([0.00059471]), array([0.00035314]), array([0.00035314]), array([0.00027906]), array([0.00027906]), array([0.0004125]), array([0.0004125])]\n",
      "[0.0004125]\n"
     ]
    }
   ],
   "source": [
    "# 2軸へ角速度指令\n",
    "import numpy as np\n",
    "import pyautogui\n",
    "import sys, time\n",
    "import pandas as pd\n",
    "import matplotlib.pyplot as plt\n",
    "from dx2lib import *  # dx2libをインポート\n",
    "\n",
    "COMPort = b'\\\\\\\\.\\\\COM4'  # 任意のCOMポート名に修正の事\n",
    "Baudrate = 57600          # Dynamixelのボーレートと合わせる事\n",
    "TargetID1 = 1             # 1台目のDynamixelのIDと合わせる事\n",
    "#TargetID2 = 2             # 2台目のDynamixelのIDと合わせる事\n",
    "\n",
    "#---------------------------------------------\n",
    "# (1) ポートを開いてdevを取得(必須)\n",
    "dev = DX2_OpenPort(COMPort, Baudrate)\n",
    "if dev != None:\n",
    "  # (2) IDの一覧\n",
    "  IDs = (c_uint8 * 2)(TargetID1)\n",
    "  #IDs = (c_uint8 * 2)(TargetID1, TargetID2)\n",
    "  # (3) 指定IDのモデル情報を取得しモデル名を表示\n",
    "  #   いちいちモデル名を表示する必要は無いが、情報取得のついでに表示\n",
    "  #   また、ここでは情報の取得ができたかの確認をしていない\n",
    "  for id in IDs:\n",
    "    print(id, DXL_GetModelInfo(dev,id).contents.name.decode())\n",
    "\n",
    "  # (4) DynamixelをVelocityモード=1に変更\n",
    "  DXL_SetOperatingModesEquival(dev, IDs, 2, 4)\n",
    "  # (5) トルクイネーブル(必須)\n",
    "  DXL_SetTorqueEnablesEquival(dev, IDs, 2, True)\n",
    "\n",
    "  # (6) 2軸分の角速度[deg/sec]と時間待ちを順次指令\n",
    "  StartAngle = 5700\n",
    "  EndAngle = 5760\n",
    "  Resolution = 2.4\n",
    "  DXL_SetGoalAngle(dev, TargetID1, StartAngle - 20)\n",
    "  time.sleep(1)\n",
    "  DXL_SetGoalAngle(dev, TargetID1, StartAngle)\n",
    "  time.sleep(1)\n",
    "  i = 0\n",
    "  RepeatNum = 1\n",
    "  dataX = []\n",
    "  dataY = []\n",
    "\n",
    "  for i in np.arange(StartAngle, EndAngle, Resolution):\n",
    "#   for i in a:\n",
    "    Voltage = []\n",
    "    AverageVoltage = []\n",
    "    dataX.append(i) #x軸の値=角度\n",
    "    DXL_SetGoalAngle(dev, TargetID1, i)\n",
    "    #DXL_SetGoalAngle(dev, TargetID2,  i)\n",
    "    time.sleep(0.5)\n",
    "    for l in range(RepeatNum):\n",
    "        pyautogui.click(140, 70)\n",
    "        time.sleep(3)\n",
    "        pyautogui.click(30, 70)\n",
    "        time.sleep(1)\n",
    "        pyautogui.click(800, 550)\n",
    "        time.sleep(0.6)\n",
    "        pyautogui.click(1100, 540)\n",
    "        RawData = []\n",
    "        RawData = pd.read_csv(filepath_or_buffer=\"./Data/Waveform.txt\")\n",
    "        Data = []\n",
    "        Ave = []\n",
    "        Ave = np.array(RawData)\n",
    "        AverageVoltage.append(Ave)\n",
    "    Voltage = sum(AverageVoltage) / len(AverageVoltage)\n",
    "    dataY.append(Voltage) #y軸の値=強さ\n",
    "    \n",
    "  print(dataX)\n",
    "  print(dataY)\n",
    "  print(Voltage)\n",
    "  \n",
    "#   DXL_SetGoalAngle(dev, TargetID1,  i)\n",
    "#   DXL_SetGoalAngle(dev, TargetID2,  i)\n",
    "#   time.sleep(5)\n",
    "\n",
    "  \n",
    "  # (7) トルクイネーブルディスエーブル(必要に応じて)\n",
    "  DXL_SetTorqueEnablesEquival(dev, IDs, 2, False)\n",
    "\n",
    "  # (8) ポートを閉じる(必須)\n",
    "  DX2_ClosePort(dev)\n",
    "else:\n",
    "  print('Could not open COM port.')\n"
   ]
  },
  {
   "cell_type": "code",
   "execution_count": 89,
   "metadata": {
    "scrolled": false
   },
   "outputs": [
    {
     "data": {
      "image/png": "[encoded data removed]",
      "text/plain": [
       "<Figure size 864x576 with 1 Axes>"
      ]
     },
     "metadata": {
      "needs_background": "light"
     },
     "output_type": "display_data"
    }
   ],
   "source": [
    "fig = plt.figure(figsize=(12, 8))\n",
    "plt.plot(dataX, dataY, \"ro\", color=\"r\",label=\"value1 of data01\" )\n",
    "#x = np.linspace()\n",
    "#plt.xticks([0, 400, 800]) #目盛りの追加（データの番号）\n",
    "plt.xticks(fontsize = 20) #軸目盛変更\n",
    "plt.yticks(fontsize = 20) #軸目盛変更\n",
    "#plt.xticks(np.arange(0, 1001, 125), np.arange(0, 80, 10)) #最後が表示されない？\n",
    "#plt.yscale('log') #対数表示\n",
    "plt.grid(color = \"gray\", linestyle=\"--\") #()の中なしでも可\n",
    "plt.minorticks_on() #補助目盛り\n",
    "plt.xlim(5690, 5760)\n",
    "plt.ylim(-0.005, 0.04) #軸の範囲\n",
    "plt.xlabel(\"Angle of Moter (degree)\",size = \"xx-large\", fontsize = 20)\n",
    "plt.ylabel(\"Average Voltage (V)\",size = \"xx-large\", fontsize = 20)\n",
    "#plt.legend(loc=\"upper right\") #ラベル位置指定\n",
    "plt.show()\n",
    "#plt.savefig(\"10ns.Harufa-py.jpg\") #カレントフォルダに保存"
   ]
  },
  {
   "cell_type": "code",
   "execution_count": null,
   "metadata": {},
   "outputs": [],
   "source": [
    "#12/13 16;30  0.01nm download4\n",
    "[5700.0, 5702.4, 5704.799999999999, 5707.199999999999, 5709.5999999999985, 5711.999999999998, 5714.399999999998, 5716.799999999997, 5719.199999999997, 5721.599999999997, 5723.999999999996, 5726.399999999996, 5728.799999999996, 5731.199999999995, 5733.599999999995, 5735.9999999999945, 5738.399999999994, 5740.799999999994, 5743.199999999993, 5745.599999999993, 5747.999999999993, 5750.399999999992, 5752.799999999992, 5755.199999999992, 5757.599999999991]\n",
    "[array([0.0001875]), array([0.00051159]), array([0.00030064]), array([0.00042751]), array([0.00028251]), array([0.00042127]), array([0.00069566]), array([0.00070879]), array([0.00095065]), array([0.00082598]), array([0.00042533]), array([0.00569031]), array([0.03050496]), array([0.01465547]), array([0.00294172]), array([0.00035376]), array([0.00047846]), array([0.00043095]), array([0.00043095]), array([0.00040657]), array([0.00022625]), array([0.000215]), array([0.00042657]), array([0.0003725]), array([0.00038782])]\n",
    "[0.00038782]"
   ]
  },
  {
   "cell_type": "code",
   "execution_count": null,
   "metadata": {},
   "outputs": [],
   "source": [
    "#12/13 16;40  0.01nm download5\n",
    "1 XL430-W250\n",
    "0 NONE\n",
    "[5700.0, 5702.4, 5704.799999999999, 5707.199999999999, 5709.5999999999985, 5711.999999999998, 5714.399999999998, 5716.799999999997, 5719.199999999997, 5721.599999999997, 5723.999999999996, 5726.399999999996, 5728.799999999996, 5731.199999999995, 5733.599999999995, 5735.9999999999945, 5738.399999999994, 5740.799999999994, 5743.199999999993, 5745.599999999993, 5747.999999999993, 5750.399999999992, 5752.799999999992, 5755.199999999992, 5757.599999999991]\n",
    "[array([0.00039282]), array([0.00035032]), array([0.00040907]), array([0.00054156]), array([0.00048283]), array([0.00048283]), array([0.00071659]), array([0.00071659]), array([0.0009441]), array([0.00118038]), array([0.00188667]), array([0.00961712]), array([0.03563547]), array([0.00725988]), array([0.00167289]), array([0.00097066]), array([0.00097066]), array([0.00059471]), array([0.00059471]), array([0.00035314]), array([0.00035314]), array([0.00027906]), array([0.00027906]), array([0.0004125]), array([0.0004125])]\n",
    "[0.0004125]"
   ]
  },
  {
   "cell_type": "code",
   "execution_count": null,
   "metadata": {},
   "outputs": [],
   "source": []
  },
  {
   "cell_type": "code",
   "execution_count": null,
   "metadata": {},
   "outputs": [],
   "source": []
  },
  {
   "cell_type": "code",
   "execution_count": null,
   "metadata": {},
   "outputs": [],
   "source": []
  },
  {
   "cell_type": "code",
   "execution_count": null,
   "metadata": {},
   "outputs": [],
   "source": []
  },
  {
   "cell_type": "code",
   "execution_count": null,
   "metadata": {},
   "outputs": [],
   "source": []
  },
  {
   "cell_type": "code",
   "execution_count": null,
   "metadata": {},
   "outputs": [],
   "source": []
  },
  {
   "cell_type": "code",
   "execution_count": null,
   "metadata": {},
   "outputs": [],
   "source": []
  },
  {
   "cell_type": "code",
   "execution_count": null,
   "metadata": {},
   "outputs": [],
   "source": []
  },
  {
   "cell_type": "code",
   "execution_count": null,
   "metadata": {},
   "outputs": [],
   "source": []
  },
  {
   "cell_type": "code",
   "execution_count": null,
   "metadata": {},
   "outputs": [],
   "source": []
  },
  {
   "cell_type": "code",
   "execution_count": null,
   "metadata": {},
   "outputs": [],
   "source": []
  }
 ],
 "metadata": {
  "kernelspec": {
   "display_name": "Python 3",
   "language": "python",
   "name": "python3"
  },
  "language_info": {
   "codemirror_mode": {
    "name": "ipython",
    "version": 3
   },
   "file_extension": ".py",
   "mimetype": "text/x-python",
   "name": "python",
   "nbconvert_exporter": "python",
   "pygments_lexer": "ipython3",
   "version": "3.7.6"
  }
 },
 "nbformat": 4,
 "nbformat_minor": 4
}
