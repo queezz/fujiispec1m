{
 "cells": [
  {
   "cell_type": "code",
   "execution_count": 36,
   "metadata": {},
   "outputs": [
    {
     "name": "stdout",
     "output_type": "stream",
     "text": [
      "1 XL430-W250\n",
      "0 NONE\n"
     ]
    }
   ],
   "source": [
    "# 2軸へ角速度指令\n",
    "import numpy as np\n",
    "import pyautogui\n",
    "import sys, time\n",
    "import pandas as pd\n",
    "import matplotlib.pyplot as plt\n",
    "from dx2lib import *  # dx2libをインポート\n",
    "\n",
    "COMPort = b'\\\\\\\\.\\\\COM4'  # 任意のCOMポート名に修正の事\n",
    "Baudrate = 57600          # Dynamixelのボーレートと合わせる事\n",
    "TargetID1 = 1             # 1台目のDynamixelのIDと合わせる事\n",
    "#TargetID2 = 2             # 2台目のDynamixelのIDと合わせる事\n",
    "\n",
    "#---------------------------------------------\n",
    "# (1) ポートを開いてdevを取得(必須)\n",
    "dev = DX2_OpenPort(COMPort, Baudrate)\n",
    "if dev != None:\n",
    "  # (2) IDの一覧\n",
    "  IDs = (c_uint8 * 2)(TargetID1)\n",
    "  #IDs = (c_uint8 * 2)(TargetID1, TargetID2)\n",
    "  # (3) 指定IDのモデル情報を取得しモデル名を表示\n",
    "  #   いちいちモデル名を表示する必要は無いが、情報取得のついでに表示\n",
    "  #   また、ここでは情報の取得ができたかの確認をしていない\n",
    "  for id in IDs:\n",
    "    print(id, DXL_GetModelInfo(dev,id).contents.name.decode())\n",
    "\n",
    "  # (4) DynamixelをVelocityモード=1に変更\n",
    "  DXL_SetOperatingModesEquival(dev, IDs, 2, 4)\n",
    "  # (5) トルクイネーブル(必須)\n",
    "  DXL_SetTorqueEnablesEquival(dev, IDs, 2, True)\n",
    "\n",
    "  # (6) 2軸分の角速度[deg/sec]と時間待ちを順次指令\n",
    "  StartAngle = 0\n",
    "  EndAngle = 100\n",
    "  Resolution = 10\n",
    "  DXL_SetGoalAngle(dev, TargetID1, StartAngle)\n",
    "  time.sleep(2)\n",
    "  i = 0\n",
    "  RepeatNum = 2\n",
    "  dataX = []\n",
    "  dataY = []\n",
    "    \n",
    "  for i in np.arange(StartAngle, EndAngle, Resolution):\n",
    "#   for i in a:\n",
    "    dataX.append(i) #x軸の値=角度\n",
    "    DXL_SetGoalAngle(dev, TargetID1, i)\n",
    "    #DXL_SetGoalAngle(dev, TargetID2,  i)\n",
    "    time.sleep(0.5)\n",
    "    MaxVoltage = []\n",
    "    \n",
    "  DXL_SetGoalAngle(dev, TargetID1, StartAngle)\n",
    "  time.sleep(2)\n",
    "#   DXL_SetGoalAngle(dev, TargetID1,  i)\n",
    "#   DXL_SetGoalAngle(dev, TargetID2,  i)\n",
    "#   time.sleep(5)\n",
    "\n",
    "  # (7) トルクイネーブルディスエーブル(必要に応じて)\n",
    "  DXL_SetTorqueEnablesEquival(dev, IDs, 2, False)\n",
    "\n",
    "  # (8) ポートを閉じる(必須)\n",
    "  DX2_ClosePort(dev)\n",
    "else:\n",
    "  print('Could not open COM port.')\n"
   ]
  },
  {
   "cell_type": "code",
   "execution_count": 30,
   "metadata": {
    "scrolled": true
   },
   "outputs": [
    {
     "name": "stdout",
     "output_type": "stream",
     "text": [
      "1 XL430-W250\n",
      "0 NONE\n"
     ]
    },
    {
     "ename": "KeyboardInterrupt",
     "evalue": "",
     "output_type": "error",
     "traceback": [
      "\u001b[1;31m---------------------------------------------------------------------------\u001b[0m",
      "\u001b[1;31mKeyboardInterrupt\u001b[0m                         Traceback (most recent call last)",
      "\u001b[1;32m<ipython-input-30-736c020edd23>\u001b[0m in \u001b[0;36m<module>\u001b[1;34m\u001b[0m\n\u001b[0;32m     48\u001b[0m     \u001b[1;32mfor\u001b[0m \u001b[0ml\u001b[0m \u001b[1;32min\u001b[0m \u001b[0mrange\u001b[0m\u001b[1;33m(\u001b[0m\u001b[0mRepeatNum\u001b[0m\u001b[1;33m)\u001b[0m\u001b[1;33m:\u001b[0m\u001b[1;33m\u001b[0m\u001b[1;33m\u001b[0m\u001b[0m\n\u001b[0;32m     49\u001b[0m         \u001b[0mpyautogui\u001b[0m\u001b[1;33m.\u001b[0m\u001b[0mclick\u001b[0m\u001b[1;33m(\u001b[0m\u001b[1;36m140\u001b[0m\u001b[1;33m,\u001b[0m \u001b[1;36m70\u001b[0m\u001b[1;33m)\u001b[0m\u001b[1;33m\u001b[0m\u001b[1;33m\u001b[0m\u001b[0m\n\u001b[1;32m---> 50\u001b[1;33m         \u001b[0mtime\u001b[0m\u001b[1;33m.\u001b[0m\u001b[0msleep\u001b[0m\u001b[1;33m(\u001b[0m\u001b[1;36m3\u001b[0m\u001b[1;33m)\u001b[0m\u001b[1;33m\u001b[0m\u001b[1;33m\u001b[0m\u001b[0m\n\u001b[0m\u001b[0;32m     51\u001b[0m         \u001b[0mpyautogui\u001b[0m\u001b[1;33m.\u001b[0m\u001b[0mclick\u001b[0m\u001b[1;33m(\u001b[0m\u001b[1;36m30\u001b[0m\u001b[1;33m,\u001b[0m \u001b[1;36m70\u001b[0m\u001b[1;33m)\u001b[0m\u001b[1;33m\u001b[0m\u001b[1;33m\u001b[0m\u001b[0m\n\u001b[0;32m     52\u001b[0m         \u001b[0mtime\u001b[0m\u001b[1;33m.\u001b[0m\u001b[0msleep\u001b[0m\u001b[1;33m(\u001b[0m\u001b[1;36m1\u001b[0m\u001b[1;33m)\u001b[0m\u001b[1;33m\u001b[0m\u001b[1;33m\u001b[0m\u001b[0m\n",
      "\u001b[1;31mKeyboardInterrupt\u001b[0m: "
     ]
    }
   ],
   "source": [
    "# 2軸へ角速度指令\n",
    "import numpy as np\n",
    "import pyautogui\n",
    "import sys, time\n",
    "import pandas as pd\n",
    "import matplotlib.pyplot as plt\n",
    "from dx2lib import *  # dx2libをインポート\n",
    "\n",
    "COMPort = b'\\\\\\\\.\\\\COM4'  # 任意のCOMポート名に修正の事\n",
    "Baudrate = 57600          # Dynamixelのボーレートと合わせる事\n",
    "TargetID1 = 1             # 1台目のDynamixelのIDと合わせる事\n",
    "#TargetID2 = 2             # 2台目のDynamixelのIDと合わせる事\n",
    "\n",
    "#---------------------------------------------\n",
    "# (1) ポートを開いてdevを取得(必須)\n",
    "dev = DX2_OpenPort(COMPort, Baudrate)\n",
    "if dev != None:\n",
    "  # (2) IDの一覧\n",
    "  IDs = (c_uint8 * 2)(TargetID1)\n",
    "  #IDs = (c_uint8 * 2)(TargetID1, TargetID2)\n",
    "  # (3) 指定IDのモデル情報を取得しモデル名を表示\n",
    "  #   いちいちモデル名を表示する必要は無いが、情報取得のついでに表示\n",
    "  #   また、ここでは情報の取得ができたかの確認をしていない\n",
    "  for id in IDs:\n",
    "    print(id, DXL_GetModelInfo(dev,id).contents.name.decode())\n",
    "\n",
    "  # (4) DynamixelをVelocityモード=1に変更\n",
    "  DXL_SetOperatingModesEquival(dev, IDs, 2, 4)\n",
    "  # (5) トルクイネーブル(必須)\n",
    "  DXL_SetTorqueEnablesEquival(dev, IDs, 2, True)\n",
    "\n",
    "  # (6) 2軸分の角速度[deg/sec]と時間待ちを順次指令\n",
    "  StartAngle = 10\n",
    "  EndAngle = 30\n",
    "  Resolution = 2.4\n",
    "  DXL_SetGoalAngle(dev, TargetID1, StartAngle)\n",
    "  i = 0\n",
    "  RepeatNum = 2\n",
    "  dataX = []\n",
    "  dataY = []\n",
    "  for i in np.arange(StartAngle, EndAngle, Resolution):\n",
    "#   for i in a:\n",
    "    dataX.append(i) #x軸の値=角度\n",
    "    DXL_SetGoalAngle(dev, TargetID1, i)\n",
    "    #DXL_SetGoalAngle(dev, TargetID2,  i)\n",
    "    time.sleep(0.5)\n",
    "    MaxVoltage = []\n",
    "    for l in range(RepeatNum):\n",
    "        pyautogui.click(140, 70)\n",
    "        time.sleep(3)\n",
    "        pyautogui.click(30, 70)\n",
    "        time.sleep(1)\n",
    "        pyautogui.click(800, 550)\n",
    "        time.sleep(0.2)\n",
    "        pyautogui.click(1100, 540)\n",
    "        RawData = pd.read_csv(filepath_or_buffer=\"./Data/Waveform.txt\")\n",
    "        Data = np.array(RawData)\n",
    "        Data = max(Data)\n",
    "        MaxVoltage.append(Data)\n",
    "    AverageMaxVoltage = sum(MaxVoltage) / len(MaxVoltage)\n",
    "    dataY.append(AverageMaxVoltage) #y軸の値=強さ\n",
    "    \n",
    "  print(dataX)\n",
    "  print(dataY)\n",
    "  print(AverageMaxVoltage)\n",
    "  \n",
    "#   DXL_SetGoalAngle(dev, TargetID1,  i)\n",
    "#   DXL_SetGoalAngle(dev, TargetID2,  i)\n",
    "#   time.sleep(5)\n",
    "\n",
    "  \n",
    "  # (7) トルクイネーブルディスエーブル(必要に応じて)\n",
    "  DXL_SetTorqueEnablesEquival(dev, IDs, 2, False)\n",
    "\n",
    "  # (8) ポートを閉じる(必須)\n",
    "  DX2_ClosePort(dev)\n",
    "else:\n",
    "  print('Could not open COM port.')\n"
   ]
  },
  {
   "cell_type": "code",
   "execution_count": 31,
   "metadata": {},
   "outputs": [
    {
     "ename": "ValueError",
     "evalue": "x and y must have same first dimension, but have shapes (1,) and (0,)",
     "output_type": "error",
     "traceback": [
      "\u001b[1;31m---------------------------------------------------------------------------\u001b[0m",
      "\u001b[1;31mValueError\u001b[0m                                Traceback (most recent call last)",
      "\u001b[1;32m<ipython-input-31-a3138fcdec27>\u001b[0m in \u001b[0;36m<module>\u001b[1;34m\u001b[0m\n\u001b[0;32m      1\u001b[0m \u001b[0mfig\u001b[0m \u001b[1;33m=\u001b[0m \u001b[0mplt\u001b[0m\u001b[1;33m.\u001b[0m\u001b[0mfigure\u001b[0m\u001b[1;33m(\u001b[0m\u001b[0mfigsize\u001b[0m\u001b[1;33m=\u001b[0m\u001b[1;33m(\u001b[0m\u001b[1;36m12\u001b[0m\u001b[1;33m,\u001b[0m \u001b[1;36m8\u001b[0m\u001b[1;33m)\u001b[0m\u001b[1;33m)\u001b[0m\u001b[1;33m\u001b[0m\u001b[1;33m\u001b[0m\u001b[0m\n\u001b[1;32m----> 2\u001b[1;33m \u001b[0mplt\u001b[0m\u001b[1;33m.\u001b[0m\u001b[0mplot\u001b[0m\u001b[1;33m(\u001b[0m\u001b[0mdataX\u001b[0m\u001b[1;33m,\u001b[0m \u001b[0mdataY\u001b[0m\u001b[1;33m,\u001b[0m \u001b[1;34m\"ro\"\u001b[0m\u001b[1;33m,\u001b[0m \u001b[0mcolor\u001b[0m\u001b[1;33m=\u001b[0m\u001b[1;34m\"r\"\u001b[0m\u001b[1;33m,\u001b[0m\u001b[0mlabel\u001b[0m\u001b[1;33m=\u001b[0m\u001b[1;34m\"value1 of data01\"\u001b[0m \u001b[1;33m)\u001b[0m\u001b[1;33m\u001b[0m\u001b[1;33m\u001b[0m\u001b[0m\n\u001b[0m\u001b[0;32m      3\u001b[0m \u001b[1;31m#x = np.linspace()\u001b[0m\u001b[1;33m\u001b[0m\u001b[1;33m\u001b[0m\u001b[1;33m\u001b[0m\u001b[0m\n\u001b[0;32m      4\u001b[0m \u001b[1;31m#plt.xticks([0, 400, 800]) #目盛りの追加（データの番号）\u001b[0m\u001b[1;33m\u001b[0m\u001b[1;33m\u001b[0m\u001b[1;33m\u001b[0m\u001b[0m\n\u001b[0;32m      5\u001b[0m \u001b[0mplt\u001b[0m\u001b[1;33m.\u001b[0m\u001b[0mxticks\u001b[0m\u001b[1;33m(\u001b[0m\u001b[0mfontsize\u001b[0m \u001b[1;33m=\u001b[0m \u001b[1;36m20\u001b[0m\u001b[1;33m)\u001b[0m \u001b[1;31m#軸目盛変更\u001b[0m\u001b[1;33m\u001b[0m\u001b[1;33m\u001b[0m\u001b[0m\n",
      "\u001b[1;32m~\\miniconda3\\lib\\site-packages\\matplotlib\\pyplot.py\u001b[0m in \u001b[0;36mplot\u001b[1;34m(scalex, scaley, data, *args, **kwargs)\u001b[0m\n\u001b[0;32m   2794\u001b[0m     return gca().plot(\n\u001b[0;32m   2795\u001b[0m         *args, scalex=scalex, scaley=scaley, **({\"data\": data} if data\n\u001b[1;32m-> 2796\u001b[1;33m         is not None else {}), **kwargs)\n\u001b[0m\u001b[0;32m   2797\u001b[0m \u001b[1;33m\u001b[0m\u001b[0m\n\u001b[0;32m   2798\u001b[0m \u001b[1;33m\u001b[0m\u001b[0m\n",
      "\u001b[1;32m~\\miniconda3\\lib\\site-packages\\matplotlib\\axes\\_axes.py\u001b[0m in \u001b[0;36mplot\u001b[1;34m(self, scalex, scaley, data, *args, **kwargs)\u001b[0m\n\u001b[0;32m   1663\u001b[0m         \"\"\"\n\u001b[0;32m   1664\u001b[0m         \u001b[0mkwargs\u001b[0m \u001b[1;33m=\u001b[0m \u001b[0mcbook\u001b[0m\u001b[1;33m.\u001b[0m\u001b[0mnormalize_kwargs\u001b[0m\u001b[1;33m(\u001b[0m\u001b[0mkwargs\u001b[0m\u001b[1;33m,\u001b[0m \u001b[0mmlines\u001b[0m\u001b[1;33m.\u001b[0m\u001b[0mLine2D\u001b[0m\u001b[1;33m.\u001b[0m\u001b[0m_alias_map\u001b[0m\u001b[1;33m)\u001b[0m\u001b[1;33m\u001b[0m\u001b[1;33m\u001b[0m\u001b[0m\n\u001b[1;32m-> 1665\u001b[1;33m         \u001b[0mlines\u001b[0m \u001b[1;33m=\u001b[0m \u001b[1;33m[\u001b[0m\u001b[1;33m*\u001b[0m\u001b[0mself\u001b[0m\u001b[1;33m.\u001b[0m\u001b[0m_get_lines\u001b[0m\u001b[1;33m(\u001b[0m\u001b[1;33m*\u001b[0m\u001b[0margs\u001b[0m\u001b[1;33m,\u001b[0m \u001b[0mdata\u001b[0m\u001b[1;33m=\u001b[0m\u001b[0mdata\u001b[0m\u001b[1;33m,\u001b[0m \u001b[1;33m**\u001b[0m\u001b[0mkwargs\u001b[0m\u001b[1;33m)\u001b[0m\u001b[1;33m]\u001b[0m\u001b[1;33m\u001b[0m\u001b[1;33m\u001b[0m\u001b[0m\n\u001b[0m\u001b[0;32m   1666\u001b[0m         \u001b[1;32mfor\u001b[0m \u001b[0mline\u001b[0m \u001b[1;32min\u001b[0m \u001b[0mlines\u001b[0m\u001b[1;33m:\u001b[0m\u001b[1;33m\u001b[0m\u001b[1;33m\u001b[0m\u001b[0m\n\u001b[0;32m   1667\u001b[0m             \u001b[0mself\u001b[0m\u001b[1;33m.\u001b[0m\u001b[0madd_line\u001b[0m\u001b[1;33m(\u001b[0m\u001b[0mline\u001b[0m\u001b[1;33m)\u001b[0m\u001b[1;33m\u001b[0m\u001b[1;33m\u001b[0m\u001b[0m\n",
      "\u001b[1;32m~\\miniconda3\\lib\\site-packages\\matplotlib\\axes\\_base.py\u001b[0m in \u001b[0;36m__call__\u001b[1;34m(self, *args, **kwargs)\u001b[0m\n\u001b[0;32m    223\u001b[0m                 \u001b[0mthis\u001b[0m \u001b[1;33m+=\u001b[0m \u001b[0margs\u001b[0m\u001b[1;33m[\u001b[0m\u001b[1;36m0\u001b[0m\u001b[1;33m]\u001b[0m\u001b[1;33m,\u001b[0m\u001b[1;33m\u001b[0m\u001b[1;33m\u001b[0m\u001b[0m\n\u001b[0;32m    224\u001b[0m                 \u001b[0margs\u001b[0m \u001b[1;33m=\u001b[0m \u001b[0margs\u001b[0m\u001b[1;33m[\u001b[0m\u001b[1;36m1\u001b[0m\u001b[1;33m:\u001b[0m\u001b[1;33m]\u001b[0m\u001b[1;33m\u001b[0m\u001b[1;33m\u001b[0m\u001b[0m\n\u001b[1;32m--> 225\u001b[1;33m             \u001b[1;32myield\u001b[0m \u001b[1;32mfrom\u001b[0m \u001b[0mself\u001b[0m\u001b[1;33m.\u001b[0m\u001b[0m_plot_args\u001b[0m\u001b[1;33m(\u001b[0m\u001b[0mthis\u001b[0m\u001b[1;33m,\u001b[0m \u001b[0mkwargs\u001b[0m\u001b[1;33m)\u001b[0m\u001b[1;33m\u001b[0m\u001b[1;33m\u001b[0m\u001b[0m\n\u001b[0m\u001b[0;32m    226\u001b[0m \u001b[1;33m\u001b[0m\u001b[0m\n\u001b[0;32m    227\u001b[0m     \u001b[1;32mdef\u001b[0m \u001b[0mget_next_color\u001b[0m\u001b[1;33m(\u001b[0m\u001b[0mself\u001b[0m\u001b[1;33m)\u001b[0m\u001b[1;33m:\u001b[0m\u001b[1;33m\u001b[0m\u001b[1;33m\u001b[0m\u001b[0m\n",
      "\u001b[1;32m~\\miniconda3\\lib\\site-packages\\matplotlib\\axes\\_base.py\u001b[0m in \u001b[0;36m_plot_args\u001b[1;34m(self, tup, kwargs)\u001b[0m\n\u001b[0;32m    389\u001b[0m             \u001b[0mx\u001b[0m\u001b[1;33m,\u001b[0m \u001b[0my\u001b[0m \u001b[1;33m=\u001b[0m \u001b[0mindex_of\u001b[0m\u001b[1;33m(\u001b[0m\u001b[0mtup\u001b[0m\u001b[1;33m[\u001b[0m\u001b[1;33m-\u001b[0m\u001b[1;36m1\u001b[0m\u001b[1;33m]\u001b[0m\u001b[1;33m)\u001b[0m\u001b[1;33m\u001b[0m\u001b[1;33m\u001b[0m\u001b[0m\n\u001b[0;32m    390\u001b[0m \u001b[1;33m\u001b[0m\u001b[0m\n\u001b[1;32m--> 391\u001b[1;33m         \u001b[0mx\u001b[0m\u001b[1;33m,\u001b[0m \u001b[0my\u001b[0m \u001b[1;33m=\u001b[0m \u001b[0mself\u001b[0m\u001b[1;33m.\u001b[0m\u001b[0m_xy_from_xy\u001b[0m\u001b[1;33m(\u001b[0m\u001b[0mx\u001b[0m\u001b[1;33m,\u001b[0m \u001b[0my\u001b[0m\u001b[1;33m)\u001b[0m\u001b[1;33m\u001b[0m\u001b[1;33m\u001b[0m\u001b[0m\n\u001b[0m\u001b[0;32m    392\u001b[0m \u001b[1;33m\u001b[0m\u001b[0m\n\u001b[0;32m    393\u001b[0m         \u001b[1;32mif\u001b[0m \u001b[0mself\u001b[0m\u001b[1;33m.\u001b[0m\u001b[0mcommand\u001b[0m \u001b[1;33m==\u001b[0m \u001b[1;34m'plot'\u001b[0m\u001b[1;33m:\u001b[0m\u001b[1;33m\u001b[0m\u001b[1;33m\u001b[0m\u001b[0m\n",
      "\u001b[1;32m~\\miniconda3\\lib\\site-packages\\matplotlib\\axes\\_base.py\u001b[0m in \u001b[0;36m_xy_from_xy\u001b[1;34m(self, x, y)\u001b[0m\n\u001b[0;32m    268\u001b[0m         \u001b[1;32mif\u001b[0m \u001b[0mx\u001b[0m\u001b[1;33m.\u001b[0m\u001b[0mshape\u001b[0m\u001b[1;33m[\u001b[0m\u001b[1;36m0\u001b[0m\u001b[1;33m]\u001b[0m \u001b[1;33m!=\u001b[0m \u001b[0my\u001b[0m\u001b[1;33m.\u001b[0m\u001b[0mshape\u001b[0m\u001b[1;33m[\u001b[0m\u001b[1;36m0\u001b[0m\u001b[1;33m]\u001b[0m\u001b[1;33m:\u001b[0m\u001b[1;33m\u001b[0m\u001b[1;33m\u001b[0m\u001b[0m\n\u001b[0;32m    269\u001b[0m             raise ValueError(\"x and y must have same first dimension, but \"\n\u001b[1;32m--> 270\u001b[1;33m                              \"have shapes {} and {}\".format(x.shape, y.shape))\n\u001b[0m\u001b[0;32m    271\u001b[0m         \u001b[1;32mif\u001b[0m \u001b[0mx\u001b[0m\u001b[1;33m.\u001b[0m\u001b[0mndim\u001b[0m \u001b[1;33m>\u001b[0m \u001b[1;36m2\u001b[0m \u001b[1;32mor\u001b[0m \u001b[0my\u001b[0m\u001b[1;33m.\u001b[0m\u001b[0mndim\u001b[0m \u001b[1;33m>\u001b[0m \u001b[1;36m2\u001b[0m\u001b[1;33m:\u001b[0m\u001b[1;33m\u001b[0m\u001b[1;33m\u001b[0m\u001b[0m\n\u001b[0;32m    272\u001b[0m             raise ValueError(\"x and y can be no greater than 2-D, but have \"\n",
      "\u001b[1;31mValueError\u001b[0m: x and y must have same first dimension, but have shapes (1,) and (0,)"
     ]
    },
    {
     "data": {
      "image/png": "[encoded data removed]",
      "text/plain": [
       "<Figure size 864x576 with 1 Axes>"
      ]
     },
     "metadata": {
      "needs_background": "light"
     },
     "output_type": "display_data"
    }
   ],
   "source": [
    "fig = plt.figure(figsize=(12, 8))\n",
    "plt.plot(dataX, dataY, \"ro\", color=\"r\",label=\"value1 of data01\" )\n",
    "#x = np.linspace()\n",
    "#plt.xticks([0, 400, 800]) #目盛りの追加（データの番号）\n",
    "plt.xticks(fontsize = 20) #軸目盛変更\n",
    "plt.yticks(fontsize = 20) #軸目盛変更\n",
    "#plt.xticks(np.arange(0, 1001, 125), np.arange(0, 80, 10)) #最後が表示されない？\n",
    "#plt.yscale('log') #対数表示\n",
    "plt.grid(color = \"gray\", linestyle=\"--\") #()の中なしでも可\n",
    "plt.minorticks_on() #補助目盛り\n",
    "plt.xlim(10, 40)\n",
    "plt.ylim(0, 0.0005) #軸の範囲\n",
    "plt.xlabel(\"Wavelength in Display (nm)\",size = \"xx-large\", fontsize = 20)\n",
    "plt.ylabel(\"Peak Voltage (V)\",size = \"xx-large\", fontsize = 20)\n",
    "#plt.legend(loc=\"upper right\") #ラベル位置指定\n",
    "plt.show()\n",
    "#plt.savefig(\"10ns.Harufa-py.jpg\") #カレントフォルダに保存"
   ]
  },
  {
   "cell_type": "code",
   "execution_count": 87,
   "metadata": {},
   "outputs": [],
   "source": [
    "        pyautogui.click(420, 220)\n",
    "        pyautogui.click(420, 150)\n",
    "        pyautogui.click(800, 550)\n",
    "        time.sleep(0.2)\n",
    "        pyautogui.click(1100, 540)\n",
    "        RawData = pd.read_csv(filepath_or_buffer=\"./Data/DataCapture.csv\")\n",
    "        Data = np.array(RawData)\n",
    "        "
   ]
  },
  {
   "cell_type": "code",
   "execution_count": 64,
   "metadata": {},
   "outputs": [
    {
     "name": "stdout",
     "output_type": "stream",
     "text": [
      "[['Max' '+100uV' nan]]\n"
     ]
    }
   ],
   "source": [
    "RawData = pd.read_csv(filepath_or_buffer=\"./Data/DataCapture.csv\")\n",
    "Data = np.array(RawData)\n",
    "Data = Data\n",
    "print(Data)"
   ]
  },
  {
   "cell_type": "code",
   "execution_count": 113,
   "metadata": {},
   "outputs": [
    {
     "name": "stdout",
     "output_type": "stream",
     "text": [
      "[0.00025]\n"
     ]
    }
   ],
   "source": [
    "pyautogui.click(140, 70)\n",
    "time.sleep(3)\n",
    "pyautogui.click(30, 70)\n",
    "time.sleep(1)\n",
    "pyautogui.click(800, 550)\n",
    "time.sleep(0.2)\n",
    "pyautogui.click(1100, 540)\n",
    "RawData = pd.read_csv(filepath_or_buffer=\"./Data/Waveform.txt\")\n",
    "Data = np.array(RawData)\n",
    "Data = max(Data)\n",
    "print(Data)"
   ]
  },
  {
   "cell_type": "code",
   "execution_count": 112,
   "metadata": {},
   "outputs": [
    {
     "name": "stdout",
     "output_type": "stream",
     "text": [
      "[0.00025]\n"
     ]
    }
   ],
   "source": [
    "RawData = pd.read_csv(filepath_or_buffer=\"./Data/Waveform.txt\")\n",
    "Data = np.array(RawData)\n",
    "Data = max(Data)\n",
    "print(Data)"
   ]
  },
  {
   "cell_type": "code",
   "execution_count": 110,
   "metadata": {},
   "outputs": [
    {
     "name": "stdout",
     "output_type": "stream",
     "text": [
      "1 XL430-W250\n",
      "0 NONE\n",
      "[10.0, 12.4, 14.8, 17.200000000000003, 19.6, 22.0, 24.400000000000002, 26.800000000000004, 29.200000000000003, 31.6, 34.0, 36.400000000000006, 38.800000000000004]\n",
      "[]\n"
     ]
    }
   ],
   "source": [
    "# 2軸へ角速度指令\n",
    "import numpy as np\n",
    "import pyautogui\n",
    "import sys, time\n",
    "import pandas as pd\n",
    "from dx2lib import *  # dx2libをインポート\n",
    "\n",
    "COMPort = b'\\\\\\\\.\\\\COM4'  # 任意のCOMポート名に修正の事\n",
    "Baudrate = 57600          # Dynamixelのボーレートと合わせる事\n",
    "TargetID1 = 1             # 1台目のDynamixelのIDと合わせる事\n",
    "#TargetID2 = 2             # 2台目のDynamixelのIDと合わせる事\n",
    "\n",
    "#---------------------------------------------\n",
    "# (1) ポートを開いてdevを取得(必須)\n",
    "dev = DX2_OpenPort(COMPort, Baudrate)\n",
    "if dev != None:\n",
    "  # (2) IDの一覧\n",
    "  IDs = (c_uint8 * 2)(TargetID1)\n",
    "  #IDs = (c_uint8 * 2)(TargetID1, TargetID2)\n",
    "  # (3) 指定IDのモデル情報を取得しモデル名を表示\n",
    "  #   いちいちモデル名を表示する必要は無いが、情報取得のついでに表示\n",
    "  #   また、ここでは情報の取得ができたかの確認をしていない\n",
    "  for id in IDs:\n",
    "    print(id, DXL_GetModelInfo(dev,id).contents.name.decode())\n",
    "\n",
    "  # (4) DynamixelをVelocityモード=1に変更\n",
    "  DXL_SetOperatingModesEquival(dev, IDs, 2, 4)\n",
    "  # (5) トルクイネーブル(必須)\n",
    "  DXL_SetTorqueEnablesEquival(dev, IDs, 2, True)\n",
    "\n",
    "  # (6) 2軸分の角速度[deg/sec]と時間待ちを順次指令\n",
    "  StartAngle = 10\n",
    "  EndAngle = 40\n",
    "  Resolution = 2.4\n",
    "  DXL_SetGoalAngle(dev, TargetID1, StartAngle)\n",
    "  i = 0\n",
    "  RepeatNum = 2\n",
    "  dataX = []\n",
    "  dataY = []\n",
    "  for i in np.arange(StartAngle, EndAngle, Resolution):\n",
    "#   for i in a:\n",
    "    dataX.append(i) #x軸の値=角度\n",
    "    DXL_SetGoalAngle(dev, TargetID1, i)\n",
    "    #DXL_SetGoalAngle(dev, TargetID2,  i)\n",
    "    time.sleep(0.5)\n",
    "\n",
    "    \n",
    "  print(dataX)\n",
    "  print(dataY)\n",
    "  \n",
    "#   DXL_SetGoalAngle(dev, TargetID1,  i)\n",
    "#   DXL_SetGoalAngle(dev, TargetID2,  i)\n",
    "#   time.sleep(5)\n",
    "\n",
    "  \n",
    "  # (7) トルクイネーブルディスエーブル(必要に応じて)\n",
    "  DXL_SetTorqueEnablesEquival(dev, IDs, 2, False)\n",
    "\n",
    "  # (8) ポートを閉じる(必須)\n",
    "  DX2_ClosePort(dev)\n",
    "else:\n",
    "  print('Could not open COM port.')\n"
   ]
  }
 ],
 "metadata": {
  "kernelspec": {
   "display_name": "Python 3",
   "language": "python",
   "name": "python3"
  },
  "language_info": {
   "codemirror_mode": {
    "name": "ipython",
    "version": 3
   },
   "file_extension": ".py",
   "mimetype": "text/x-python",
   "name": "python",
   "nbconvert_exporter": "python",
   "pygments_lexer": "ipython3",
   "version": "3.7.6"
  }
 },
 "nbformat": 4,
 "nbformat_minor": 4
}
