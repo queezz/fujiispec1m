{
 "cells": [
  {
   "cell_type": "code",
   "execution_count": 10,
   "metadata": {},
   "outputs": [
    {
     "name": "stdout",
     "output_type": "stream",
     "text": [
      "1 XL430-W250\n",
      "0 NONE\n"
     ]
    },
    {
     "ename": "KeyboardInterrupt",
     "evalue": "",
     "output_type": "error",
     "traceback": [
      "\u001b[1;31m---------------------------------------------------------------------------\u001b[0m",
      "\u001b[1;31mKeyboardInterrupt\u001b[0m                         Traceback (most recent call last)",
      "\u001b[1;32m<ipython-input-10-2a8c6eb24ba8>\u001b[0m in \u001b[0;36m<module>\u001b[1;34m\u001b[0m\n\u001b[0;32m     41\u001b[0m     \u001b[0mDXL_SetGoalAngle\u001b[0m\u001b[1;33m(\u001b[0m\u001b[0mdev\u001b[0m\u001b[1;33m,\u001b[0m \u001b[0mTargetID1\u001b[0m\u001b[1;33m,\u001b[0m \u001b[0mi\u001b[0m\u001b[1;33m)\u001b[0m\u001b[1;33m\u001b[0m\u001b[1;33m\u001b[0m\u001b[0m\n\u001b[0;32m     42\u001b[0m     \u001b[1;31m#DXL_SetGoalAngle(dev, TargetID2,  i)\u001b[0m\u001b[1;33m\u001b[0m\u001b[1;33m\u001b[0m\u001b[1;33m\u001b[0m\u001b[0m\n\u001b[1;32m---> 43\u001b[1;33m     \u001b[0mtime\u001b[0m\u001b[1;33m.\u001b[0m\u001b[0msleep\u001b[0m\u001b[1;33m(\u001b[0m\u001b[1;36m0.5\u001b[0m\u001b[1;33m)\u001b[0m\u001b[1;33m\u001b[0m\u001b[1;33m\u001b[0m\u001b[0m\n\u001b[0m\u001b[0;32m     44\u001b[0m \u001b[1;33m\u001b[0m\u001b[0m\n\u001b[0;32m     45\u001b[0m \u001b[1;31m#   DXL_SetGoalAngle(dev, TargetID1,  i)\u001b[0m\u001b[1;33m\u001b[0m\u001b[1;33m\u001b[0m\u001b[1;33m\u001b[0m\u001b[0m\n",
      "\u001b[1;31mKeyboardInterrupt\u001b[0m: "
     ]
    }
   ],
   "source": [
    "# 2軸へ角速度指令 434.05 nm Calibration\n",
    "import numpy as np\n",
    "import pyautogui\n",
    "import sys, time\n",
    "import pandas as pd\n",
    "import matplotlib.pyplot as plt\n",
    "from dx2lib import *  # dx2libをインポート\n",
    "\n",
    "COMPort = b'\\\\\\\\.\\\\COM4'  # 任意のCOMポート名に修正の事\n",
    "Baudrate = 57600          # Dynamixelのボーレートと合わせる事\n",
    "TargetID1 = 1             # 1台目のDynamixelのIDと合わせる事\n",
    "#TargetID2 = 2             # 2台目のDynamixelのIDと合わせる事\n",
    "\n",
    "#---------------------------------------------\n",
    "# (1) ポートを開いてdevを取得(必須)\n",
    "dev = DX2_OpenPort(COMPort, Baudrate)\n",
    "if dev != None:\n",
    "  # (2) IDの一覧\n",
    "  IDs = (c_uint8 * 2)(TargetID1)\n",
    "  #IDs = (c_uint8 * 2)(TargetID1, TargetID2)\n",
    "  # (3) 指定IDのモデル情報を取得しモデル名を表示\n",
    "  #   いちいちモデル名を表示する必要は無いが、情報取得のついでに表示\n",
    "  #   また、ここでは情報の取得ができたかの確認をしていない\n",
    "  for id in IDs:\n",
    "    print(id, DXL_GetModelInfo(dev,id).contents.name.decode())\n",
    "\n",
    "  # (4) DynamixelをVelocityモード=1に変更\n",
    "  DXL_SetOperatingModesEquival(dev, IDs, 2, 4)\n",
    "  # (5) トルクイネーブル(必須)\n",
    "  DXL_SetTorqueEnablesEquival(dev, IDs, 2, True)\n",
    "\n",
    "  # (6) 2軸分の角速度[deg/sec]と時間待ちを順次指令\n",
    "  StartAngle = 6950\n",
    "  EndAngle =7000\n",
    "  Resolution = 3\n",
    "  DXL_SetGoalAngle(dev, TargetID1, StartAngle)\n",
    "  time.sleep(2)\n",
    "  i = 0\n",
    "  for i in np.arange(StartAngle, EndAngle, Resolution):\n",
    "#   for i in a:\n",
    "    DXL_SetGoalAngle(dev, TargetID1, i)\n",
    "    #DXL_SetGoalAngle(dev, TargetID2,  i)\n",
    "    time.sleep(0.5)\n",
    "\n",
    "#   DXL_SetGoalAngle(dev, TargetID1,  i)\n",
    "#   DXL_SetGoalAngle(dev, TargetID2,  i)\n",
    "#   time.sleep(5)\n",
    "\n",
    "  \n",
    "  # (7) トルクイネーブルディスエーブル(必要に応じて)\n",
    "  DXL_SetTorqueEnablesEquival(dev, IDs, 2, False)\n",
    "\n",
    "  # (8) ポートを閉じる(必須)\n",
    "  DX2_ClosePort(dev)\n",
    "else:\n",
    "  print('Could not open COM port.')\n"
   ]
  },
  {
   "cell_type": "code",
   "execution_count": 1,
   "metadata": {
    "scrolled": true
   },
   "outputs": [
    {
     "name": "stdout",
     "output_type": "stream",
     "text": [
      "Could not open COM port.\n"
     ]
    }
   ],
   "source": [
    "# 2軸へ角速度指令\n",
    "import numpy as np\n",
    "import pyautogui\n",
    "import sys, time\n",
    "import pandas as pd\n",
    "import matplotlib.pyplot as plt\n",
    "from dx2lib import *  # dx2libをインポート\n",
    "\n",
    "COMPort = b'\\\\\\\\.\\\\COM4'  # 任意のCOMポート名に修正の事\n",
    "Baudrate = 57600          # Dynamixelのボーレートと合わせる事\n",
    "TargetID1 = 1             # 1台目のDynamixelのIDと合わせる事\n",
    "#TargetID2 = 2             # 2台目のDynamixelのIDと合わせる事\n",
    "\n",
    "#---------------------------------------------\n",
    "# (1) ポートを開いてdevを取得(必須)\n",
    "dev = DX2_OpenPort(COMPort, Baudrate)\n",
    "if dev != None:\n",
    "  # (2) IDの一覧\n",
    "  IDs = (c_uint8 * 2)(TargetID1)\n",
    "  #IDs = (c_uint8 * 2)(TargetID1, TargetID2)\n",
    "  # (3) 指定IDのモデル情報を取得しモデル名を表示\n",
    "  #   いちいちモデル名を表示する必要は無いが、情報取得のついでに表示\n",
    "  #   また、ここでは情報の取得ができたかの確認をしていない\n",
    "  for id in IDs:\n",
    "    print(id, DXL_GetModelInfo(dev,id).contents.name.decode())\n",
    "\n",
    "  # (4) DynamixelをVelocityモード=1に変更\n",
    "  DXL_SetOperatingModesEquival(dev, IDs, 2, 4)\n",
    "  # (5) トルクイネーブル(必須)\n",
    "  DXL_SetTorqueEnablesEquival(dev, IDs, 2, True)\n",
    "\n",
    "  # (6) 2軸分の角速度[deg/sec]と時間待ちを順次指令\n",
    "  StartAngle = 6950\n",
    "  EndAngle = 7000\n",
    "  Resolution = 2.4\n",
    "  DXL_SetGoalAngle(dev, TargetID1, StartAngle - 20)\n",
    "  time.sleep(1)\n",
    "  DXL_SetGoalAngle(dev, TargetID1, StartAngle)\n",
    "  time.sleep(1)\n",
    "  i = 0\n",
    "  RepeatNum = 1\n",
    "  dataX = []\n",
    "  dataY = []\n",
    "\n",
    "  for i in np.arange(StartAngle, EndAngle, Resolution):\n",
    "#   for i in a:\n",
    "    Voltage = []\n",
    "    AverageVoltage = []\n",
    "    dataX.append(i) #x軸の値=角度\n",
    "    DXL_SetGoalAngle(dev, TargetID1, i)\n",
    "    #DXL_SetGoalAngle(dev, TargetID2,  i)\n",
    "    time.sleep(0.5)\n",
    "    for l in range(RepeatNum):\n",
    "        pyautogui.click(140, 70)\n",
    "        time.sleep(3)\n",
    "        pyautogui.click(30, 70)\n",
    "        time.sleep(1)\n",
    "        pyautogui.click(800, 550)\n",
    "        time.sleep(1.5)\n",
    "        pyautogui.click(1100, 540)\n",
    "        RawData = []\n",
    "        RawData = pd.read_csv(filepath_or_buffer=\"./Data/Waveform.txt\")\n",
    "        Data = []\n",
    "        Ave = []\n",
    "        Ave = np.average(RawData)\n",
    "        AverageVoltage.append(Ave)\n",
    "    Voltage = sum(AverageVoltage) / len(AverageVoltage)\n",
    "    dataY.append(Voltage) #y軸の値=強さ\n",
    "    \n",
    "  print(dataX)\n",
    "  print(dataY)\n",
    "  print(Voltage)\n",
    "  \n",
    "#   DXL_SetGoalAngle(dev, TargetID1,  i)\n",
    "#   DXL_SetGoalAngle(dev, TargetID2,  i)\n",
    "#   time.sleep(5)\n",
    "\n",
    "  \n",
    "  # (7) トルクイネーブルディスエーブル(必要に応じて)\n",
    "  DXL_SetTorqueEnablesEquival(dev, IDs, 2, False)\n",
    "\n",
    "  # (8) ポートを閉じる(必須)\n",
    "  DX2_ClosePort(dev)\n",
    "else:\n",
    "  print('Could not open COM port.')\n"
   ]
  },
  {
   "cell_type": "code",
   "execution_count": 20,
   "metadata": {
    "scrolled": true
   },
   "outputs": [
    {
     "data": {
      "image/png": "[encoded data removed]",
      "text/plain": [
       "<Figure size 864x576 with 1 Axes>"
      ]
     },
     "metadata": {
      "needs_background": "light"
     },
     "output_type": "display_data"
    }
   ],
   "source": [
    "fig = plt.figure(figsize=(12, 8))\n",
    "plt.plot(dataX, dataY, \"ro\", color=\"r\",label=\"value1 of data01\" )\n",
    "#x = np.linspace()\n",
    "#plt.xticks([0, 400, 800]) #目盛りの追加（データの番号）\n",
    "plt.xticks(fontsize = 20) #軸目盛変更\n",
    "plt.yticks(fontsize = 20) #軸目盛変更\n",
    "#plt.xticks(np.arange(0, 1001, 125), np.arange(0, 80, 10)) #最後が表示されない？\n",
    "#plt.yscale('log') #対数表示\n",
    "plt.grid(color = \"gray\", linestyle=\"--\") #()の中なしでも可\n",
    "plt.minorticks_on() #補助目盛り\n",
    "plt.xlim(6940, 7000)\n",
    "plt.ylim(-0.005, 0.05) #軸の範囲\n",
    "plt.xlabel(\"Angle of Moter (degree)\",size = \"xx-large\", fontsize = 20)\n",
    "plt.ylabel(\"Average Voltage (V)\",size = \"xx-large\", fontsize = 20)\n",
    "#plt.legend(loc=\"upper right\") #ラベル位置指定\n",
    "plt.show()\n",
    "#plt.savefig(\"10ns.Harufa-py.jpg\") #カレントフォルダに保存"
   ]
  },
  {
   "cell_type": "code",
   "execution_count": null,
   "metadata": {},
   "outputs": [],
   "source": [
    "#12/13 17;00  0.01nm download6\n",
    "[6950.0, 6952.4, 6954.799999999999, 6957.199999999999, 6959.5999999999985, 6961.999999999998, 6964.399999999998, 6966.799999999997, 6969.199999999997, 6971.599999999997, 6973.999999999996, 6976.399999999996, 6978.799999999996, 6981.199999999995, 6983.599999999995, 6985.9999999999945, 6988.399999999994, 6990.799999999994, 6993.199999999993, 6995.599999999993, 6997.999999999993]\n",
    "[array([0.00058471]), array([0.00030033]), array([0.00034376]), array([0.00037314]), array([0.00078098]), array([0.00082254]), array([0.0009463]), array([0.0012135]), array([0.00144914]), array([0.00123195]), array([0.00185229]), array([0.01729296]), array([0.04662464]), array([0.01507624]), array([0.00221577]), array([0.00044719]), array([0.00044719]), array([0.00040813]), array([0.00033157]), array([0.00038281]), array([0.00034094])]\n",
    "[0.00034094]"
   ]
  },
  {
   "cell_type": "code",
   "execution_count": null,
   "metadata": {},
   "outputs": [],
   "source": [
    "#12/13 17;07  0.01nm download7\n",
    "[6950.0, 6952.4, 6954.799999999999, 6957.199999999999, 6959.5999999999985, 6961.999999999998, 6964.399999999998, 6966.799999999997, 6969.199999999997, 6971.599999999997, 6973.999999999996, 6976.399999999996, 6978.799999999996, 6981.199999999995, 6983.599999999995, 6985.9999999999945, 6988.399999999994, 6990.799999999994, 6993.199999999993, 6995.599999999993, 6997.999999999993]\n",
    "[array([0.00046657]), array([0.00033844]), array([0.00050002]), array([0.00064534]), array([0.00070472]), array([0.00042313]), array([0.00077536]), array([0.00118506]), array([0.00072409]), array([0.00053628]), array([0.00161885]), array([0.01806639]), array([0.0450937]), array([0.01252297]), array([0.00264768]), array([0.00065284]), array([0.00042063]), array([0.00039438]), array([0.00036]), array([0.00033907]), array([0.00036657])]\n",
    "[0.00036657]"
   ]
  },
  {
   "cell_type": "code",
   "execution_count": null,
   "metadata": {},
   "outputs": [],
   "source": []
  },
  {
   "cell_type": "code",
   "execution_count": null,
   "metadata": {},
   "outputs": [],
   "source": []
  },
  {
   "cell_type": "code",
   "execution_count": null,
   "metadata": {},
   "outputs": [],
   "source": []
  },
  {
   "cell_type": "code",
   "execution_count": null,
   "metadata": {},
   "outputs": [],
   "source": []
  },
  {
   "cell_type": "code",
   "execution_count": null,
   "metadata": {},
   "outputs": [],
   "source": []
  },
  {
   "cell_type": "code",
   "execution_count": null,
   "metadata": {},
   "outputs": [],
   "source": []
  },
  {
   "cell_type": "code",
   "execution_count": null,
   "metadata": {},
   "outputs": [],
   "source": []
  },
  {
   "cell_type": "code",
   "execution_count": null,
   "metadata": {},
   "outputs": [],
   "source": []
  },
  {
   "cell_type": "code",
   "execution_count": null,
   "metadata": {},
   "outputs": [],
   "source": []
  },
  {
   "cell_type": "code",
   "execution_count": null,
   "metadata": {},
   "outputs": [],
   "source": []
  },
  {
   "cell_type": "code",
   "execution_count": null,
   "metadata": {},
   "outputs": [],
   "source": []
  }
 ],
 "metadata": {
  "kernelspec": {
   "display_name": "Python 3",
   "language": "python",
   "name": "python3"
  },
  "language_info": {
   "codemirror_mode": {
    "name": "ipython",
    "version": 3
   },
   "file_extension": ".py",
   "mimetype": "text/x-python",
   "name": "python",
   "nbconvert_exporter": "python",
   "pygments_lexer": "ipython3",
   "version": "3.7.6"
  }
 },
 "nbformat": 4,
 "nbformat_minor": 4
}
