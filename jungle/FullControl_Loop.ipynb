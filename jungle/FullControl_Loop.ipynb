{
 "cells": [
  {
   "cell_type": "markdown",
   "metadata": {},
   "source": [
    "# Spectra acquisiton\n",
    "Control both the stepping motor and the camera from this notebook.<br>\n",
    "Make a loop to measure a wide-range spectrum automatically.\n",
    "\n",
    "NOTE: only one connection to COM port is possible at a time. Shut down other connections, either in python or dedicated software."
   ]
  },
  {
   "cell_type": "code",
   "execution_count": 1,
   "metadata": {},
   "outputs": [
    {
     "name": "stdout",
     "output_type": "stream",
     "text": [
      "Populating the interactive namespace from numpy and matplotlib\n"
     ]
    }
   ],
   "source": [
    "%pylab inline"
   ]
  },
  {
   "cell_type": "code",
   "execution_count": 2,
   "metadata": {},
   "outputs": [],
   "source": [
    "import time, os, logging\n",
    "from FLI import FLI\n",
    "import numpy as np\n",
    "import xarray as xr\n",
    "from os.path import join"
   ]
  },
  {
   "cell_type": "code",
   "execution_count": 3,
   "metadata": {},
   "outputs": [],
   "source": [
    "%run thr640.py\n",
    "%run imaging_tool.py"
   ]
  },
  {
   "cell_type": "code",
   "execution_count": 4,
   "metadata": {},
   "outputs": [],
   "source": [
    "logger = logger\n",
    "logger.setLevel(50) # 10 - DEBUG 50 - CRITICAL 20 - INFO\n",
    "camera = FLI()\n",
    "step_motor = THR640() # Can only have one instance."
   ]
  },
  {
   "cell_type": "code",
   "execution_count": 5,
   "metadata": {},
   "outputs": [
    {
     "data": {
      "text/plain": [
       "True"
      ]
     },
     "execution_count": 5,
     "metadata": {},
     "output_type": "execute_result"
    }
   ],
   "source": [
    "basepath = r'\\\\10.249.254.51\\Public\\Kuzmin\\Experiments-Leprecon\\Spectrometer\\20210106_test'\n",
    "os.path.exists(basepath)"
   ]
  },
  {
   "cell_type": "code",
   "execution_count": 6,
   "metadata": {},
   "outputs": [
    {
     "data": {
      "text/plain": [
       "'\\\\\\\\10.249.254.51\\\\Public\\\\Kuzmin\\\\Experiments-Leprecon\\\\Spectrometer\\\\20210106_test\\\\a.nc'"
      ]
     },
     "execution_count": 6,
     "metadata": {},
     "output_type": "execute_result"
    }
   ],
   "source": [
    "join(basepath,'a.nc')"
   ]
  },
  {
   "cell_type": "code",
   "execution_count": 9,
   "metadata": {},
   "outputs": [
    {
     "data": {
      "application/vnd.jupyter.widget-view+json": {
       "model_id": "f7a064206d9a4dabbc496b5376ed4922",
       "version_major": 2,
       "version_minor": 0
      },
      "text/plain": [
       "VBox(children=(HTML(value=''), IntProgress(value=0, max=4)))"
      ]
     },
     "metadata": {},
     "output_type": "display_data"
    },
    {
     "name": "stdout",
     "output_type": "stream",
     "text": [
      "\\\\10.249.254.51\\Public\\Kuzmin\\Experiments-Leprecon\\Spectrometer\\20210106_test\\H2_standard_630000_miura.nc\n",
      "\\\\10.249.254.51\\Public\\Kuzmin\\Experiments-Leprecon\\Spectrometer\\20210106_test\\H2_standard_635000_miura.nc\n",
      "\\\\10.249.254.51\\Public\\Kuzmin\\Experiments-Leprecon\\Spectrometer\\20210106_test\\H2_standard_640000_miura.nc\n",
      "\\\\10.249.254.51\\Public\\Kuzmin\\Experiments-Leprecon\\Spectrometer\\20210106_test\\H2_standard_645000_miura.nc\n",
      "Done.\n"
     ]
    }
   ],
   "source": [
    "exposure = 5.0 * 1e3 # ms\n",
    "vbin = 1\n",
    "attributes = {\n",
    "    \"temperature\": camera.getTemperature(),\n",
    "    \"device_status\": camera.getDeviceStatus(),\n",
    "    \"exposure\": exposure,\n",
    "    \"frame_type\": \"light\",\n",
    "    \"motor_coordinate\":\"\",\n",
    "    \"slit_width\": \"0.3mm\",\n",
    "    \"dennryu\": 1\n",
    "}\n",
    "\n",
    "#R = [100000 + i*5000 for i in range(101)]\n",
    "R = [630000 + i*5000 for i in range(4)]\n",
    "#R = [380000 + i*5000 for i in range(25)]\n",
    "#R = [500000 + i*5000 for i in range(5)]\n",
    "#R = [300000 + i*5000 for i in range(101)]\n",
    "# R = [430000 + i*5000 for i in range(8)] #fulcher-alpha\n",
    "# R = [430000] # \n",
    "#R = [700000 + i*10000 for i in range(10)]\n",
    "#R = [740000 + i*5000 for i in range(5)]\n",
    "for r in log_progress(R):\n",
    "    step_motor.goto(r)\n",
    "    step_motor.waitUntilReady()\n",
    "    attributes['motor_coordinate'] = r\n",
    "    \n",
    "    camera.setExposureTime(exposure)\n",
    "    camera.setVBin(vbin)\n",
    "    camera.setImageArea(10,0,2058,512//vbin)\n",
    "    time.sleep(.5)\n",
    "    camera.exposeFrame()\n",
    "    time.sleep(.1)\n",
    "    # load image\n",
    "    image_data = camera.grabFrame(out=np.empty((512//vbin,2048), np.uint16))\n",
    "    # convert to xarray\n",
    "    data = xr.DataArray(\n",
    "        image_data, dims=[\"y\", \"x\"], coords={\"image_counter\": 0}, attrs=attributes\n",
    "    )\n",
    "    # save data as NetCDF file\n",
    "    filepath = join(basepath,f'H2_standard_{r}_miura.nc')\n",
    "    print(filepath)\n",
    "    data.to_netcdf(filepath)\n",
    "print('Done.')"
   ]
  },
  {
   "cell_type": "code",
   "execution_count": 8,
   "metadata": {},
   "outputs": [
    {
     "data": {
      "text/plain": [
       "[430000,\n",
       " 435000,\n",
       " 440000,\n",
       " 445000,\n",
       " 450000,\n",
       " 455000,\n",
       " 460000,\n",
       " 465000,\n",
       " 470000,\n",
       " 475000]"
      ]
     },
     "execution_count": 8,
     "metadata": {},
     "output_type": "execute_result"
    }
   ],
   "source": [
    "[430000 + i*5000 for i in range(10)]"
   ]
  },
  {
   "cell_type": "code",
   "execution_count": null,
   "metadata": {},
   "outputs": [],
   "source": []
  }
 ],
 "metadata": {
  "kernelspec": {
   "display_name": "Python 3",
   "language": "python",
   "name": "python3"
  },
  "language_info": {
   "codemirror_mode": {
    "name": "ipython",
    "version": 3
   },
   "file_extension": ".py",
   "mimetype": "text/x-python",
   "name": "python",
   "nbconvert_exporter": "python",
   "pygments_lexer": "ipython3",
   "version": "3.7.6"
  }
 },
 "nbformat": 4,
 "nbformat_minor": 4
}
