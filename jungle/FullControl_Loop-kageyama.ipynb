{
 "cells": [
  {
   "cell_type": "markdown",
   "metadata": {},
   "source": [
    "# Spectra acquisiton\n",
    "Control both the stepping motor and the camera from this notebook.<br>\n",
    "Make a loop to measure a wide-range spectrum automatically.\n",
    "\n",
    "NOTE: only one connection to COM port is possible at a time. Shut down other connections, either in python or dedicated software."
   ]
  },
  {
   "cell_type": "code",
   "execution_count": 1,
   "metadata": {},
   "outputs": [
    {
     "name": "stdout",
     "output_type": "stream",
     "text": [
      "Populating the interactive namespace from numpy and matplotlib\n"
     ]
    }
   ],
   "source": [
    "%pylab inline"
   ]
  },
  {
   "cell_type": "code",
   "execution_count": 2,
   "metadata": {},
   "outputs": [],
   "source": [
    "import time, os, logging\n",
    "from FLI import FLI\n",
    "import numpy as np\n",
    "import xarray as xr\n",
    "from os.path import join"
   ]
  },
  {
   "cell_type": "code",
   "execution_count": 3,
   "metadata": {},
   "outputs": [],
   "source": [
    "%run thr640.py\n",
    "%run imaging_tool.py"
   ]
  },
  {
   "cell_type": "code",
   "execution_count": 4,
   "metadata": {},
   "outputs": [],
   "source": [
    "logger = logger\n",
    "logger.setLevel(50) # 10 - DEBUG 50 - CRITICAL 20 - INFO\n",
    "camera = FLI()\n",
    "step_motor = THR640() # Can only have one instance."
   ]
  },
  {
   "cell_type": "code",
   "execution_count": 5,
   "metadata": {},
   "outputs": [],
   "source": [
    "# basepath = r'\\\\10.249.254.51\\Public\\Kuzmin\\Experiments-Leprecon\\Spectrometer\\20210106_test'\n",
    "basepath = r'C:\\Users\\fujii\\Documents\\python\\kuzmin\\miura\\1007'\n",
    "os.path.exists(basepath)\n",
    "precount = -1"
   ]
  },
  {
   "cell_type": "markdown",
   "metadata": {},
   "source": [
    "# Single"
   ]
  },
  {
   "cell_type": "code",
   "execution_count": 8,
   "metadata": {
    "scrolled": true
   },
   "outputs": [],
   "source": [
    "##### %run imaging_tool.py\n",
    "\n",
    "import mkse as mk\n",
    "\n",
    "name=(\"Hgamma-test\")\n",
    "count=450000 # 615 nm\n",
    "count=740000 # 307.5 nm\n",
    "count=800000 # 226 nm\n",
    "\n",
    "exposure = 10 * 1e3 # ms\n",
    "\n",
    "if count != precount:\n",
    "    step_motor.goto(count)\n",
    "    step_motor.waitUntilReady()\n",
    "precount = count\n",
    "\n",
    "vbin = 1\n",
    "\n",
    "attributes = {\n",
    "    \"temperature\": camera.getTemperature(),\n",
    "    \"device_status\": camera.getDeviceStatus(),\n",
    "    \"exposure\": exposure,\n",
    "    \"frame_type\": \"light\",\n",
    "}\n",
    "\n",
    "camera.setExposureTime(exposure)\n",
    "camera.setVBin(vbin)\n",
    "camera.setImageArea(10,0,2058,512//vbin)\n",
    "time.sleep(.5)\n",
    "camera.exposeFrame()\n",
    "time.sleep(.1)\n",
    "# load image\n",
    "image_data = camera.grabFrame(out=np.empty((512//vbin,2048), np.uint16))\n",
    "# convert to xarray\n",
    "data = xr.DataArray(\n",
    "    image_data, dims=[\"y\", \"x\"], coords={\"image_counter\": 0}, attrs=attributes\n",
    ")\n",
    "# save data as NetCDF file\n",
    "filepath = join(basepath,f'{name}-{count}-{exposure}ms-back.nc')\n",
    "data.to_netcdf(filepath)\n",
    "# plot_image(image_data)"
   ]
  },
  {
   "cell_type": "code",
   "execution_count": 9,
   "metadata": {
    "scrolled": true
   },
   "outputs": [
    {
     "data": {
      "text/plain": [
       "array([[1.14651500e+06, 1.14623400e+06, 1.14713400e+06, ...,\n",
       "        1.59623100e+06, 1.59632500e+06, 1.59493100e+06],\n",
       "       [2.39447864e+02, 2.39441598e+02, 2.39435332e+02, ...,\n",
       "        2.26572254e+02, 2.26565928e+02, 2.26559602e+02]])"
      ]
     },
     "execution_count": 9,
     "metadata": {},
     "output_type": "execute_result"
    },
    {
     "data": {
      "image/png": "[encoded data removed]",
      "text/plain": [
       "<Figure size 800x450 with 1 Axes>"
      ]
     },
     "metadata": {
      "needs_background": "light"
     },
     "output_type": "display_data"
    }
   ],
   "source": [
    "mk.mkses.basepathis(basepath)\n",
    "mk.mkses.rotationis(count)\n",
    "mk.display_nc(f'{name}-{count}-{exposure}ms-back.nc')"
   ]
  },
  {
   "cell_type": "code",
   "execution_count": 10,
   "metadata": {},
   "outputs": [],
   "source": [
    "import mkse as mk\n",
    "\n",
    "precount = 0\n",
    "name=(\"H\")\n",
    "R = [400000 + i*10000 for i in range(41)]\n",
    "T = [0.1 * 1e3, 1 * 1e3, 10 * 1e3]\n",
    "\n",
    "\n",
    "for count in R:\n",
    "    if count != precount:\n",
    "        step_motor.goto(count)\n",
    "        step_motor.waitUntilReady()\n",
    "    precount = count    \n",
    "    for exposure in T:\n",
    "        vbin = 1\n",
    "        attributes = {\n",
    "            \"temperature\": camera.getTemperature(),\n",
    "            \"device_status\": camera.getDeviceStatus(),\n",
    "            \"exposure\": exposure,\n",
    "            \"frame_type\": \"light\",\n",
    "        }\n",
    "\n",
    "        camera.setExposureTime(exposure)\n",
    "        camera.setVBin(vbin)\n",
    "        camera.setImageArea(10,0,2058,512//vbin)\n",
    "        time.sleep(.5)\n",
    "        camera.exposeFrame()\n",
    "        time.sleep(.1)\n",
    "        # load image\n",
    "        image_data = camera.grabFrame(out=np.empty((512//vbin,2048), np.uint16))\n",
    "        # convert to xarray\n",
    "        data = xr.DataArray(\n",
    "            image_data, dims=[\"y\", \"x\"], coords={\"image_counter\": 0}, attrs=attributes\n",
    "        )\n",
    "        # save data as NetCDF file\n",
    "        filepath = join(basepath,f'{name}-{count}-{exposure}ms.nc')\n",
    "        data.to_netcdf(filepath)"
   ]
  },
  {
   "cell_type": "code",
   "execution_count": 16,
   "metadata": {},
   "outputs": [
    {
     "data": {
      "text/plain": [
       "array([[1.04437800e+06, 1.04411600e+06, 1.04422000e+06, ...,\n",
       "        1.08463400e+06, 1.08422900e+06, 1.08447800e+06],\n",
       "       [6.52500665e+02, 6.52496791e+02, 6.52492917e+02, ...,\n",
       "        6.44517431e+02, 6.44513497e+02, 6.44509563e+02]])"
      ]
     },
     "execution_count": 16,
     "metadata": {},
     "output_type": "execute_result"
    },
    {
     "data": {
      "image/png": "[encoded data removed]",
      "text/plain": [
       "<Figure size 800x450 with 1 Axes>"
      ]
     },
     "metadata": {
      "needs_background": "light"
     },
     "output_type": "display_data"
    }
   ],
   "source": [
    "mk.mkses.basepathis(basepath)\n",
    "mk.mkses.rotationis(count)\n",
    "mk.display_nc(f'{name}-{count}-10000.0ms.nc')"
   ]
  },
  {
   "cell_type": "markdown",
   "metadata": {},
   "source": [
    "# LOOP"
   ]
  },
  {
   "cell_type": "code",
   "execution_count": 35,
   "metadata": {},
   "outputs": [
    {
     "data": {
      "application/vnd.jupyter.widget-view+json": {
       "model_id": "bc49d5a6b9894977aca97eab1741b1cf",
       "version_major": 2,
       "version_minor": 0
      },
      "text/plain": [
       "VBox(children=(HTML(value=''), IntProgress(value=0, max=11)))"
      ]
     },
     "metadata": {},
     "output_type": "display_data"
    },
    {
     "name": "stdout",
     "output_type": "stream",
     "text": [
      "C:\\Users\\fujii\\Documents\\python\\kuzmin\\miura\\0905\\Th-test-800000-300000.0ms.nc\n",
      "C:\\Users\\fujii\\Documents\\python\\kuzmin\\miura\\0905\\Th-test-805000-300000.0ms.nc\n",
      "C:\\Users\\fujii\\Documents\\python\\kuzmin\\miura\\0905\\Th-test-810000-300000.0ms.nc\n",
      "C:\\Users\\fujii\\Documents\\python\\kuzmin\\miura\\0905\\Th-test-815000-300000.0ms.nc\n",
      "C:\\Users\\fujii\\Documents\\python\\kuzmin\\miura\\0905\\Th-test-820000-300000.0ms.nc\n",
      "C:\\Users\\fujii\\Documents\\python\\kuzmin\\miura\\0905\\Th-test-825000-300000.0ms.nc\n",
      "C:\\Users\\fujii\\Documents\\python\\kuzmin\\miura\\0905\\Th-test-830000-300000.0ms.nc\n",
      "C:\\Users\\fujii\\Documents\\python\\kuzmin\\miura\\0905\\Th-test-835000-300000.0ms.nc\n",
      "C:\\Users\\fujii\\Documents\\python\\kuzmin\\miura\\0905\\Th-test-840000-300000.0ms.nc\n",
      "C:\\Users\\fujii\\Documents\\python\\kuzmin\\miura\\0905\\Th-test-845000-300000.0ms.nc\n",
      "C:\\Users\\fujii\\Documents\\python\\kuzmin\\miura\\0905\\Th-test-850000-300000.0ms.nc\n",
      "Done.\n"
     ]
    }
   ],
   "source": [
    "name=(\"Th-test\")\n",
    "exposure = 300 * 1e3 # ms\n",
    "vbin = 1\n",
    "attributes = {\n",
    "    \"temperature\": camera.getTemperature(),\n",
    "    \"device_status\": camera.getDeviceStatus(),\n",
    "    \"exposure\": exposure,\n",
    "    \"frame_type\": \"light\",\n",
    "    \"motor_coordinate\":\"\",\n",
    "    \"slit_width\": \"0.3mm\",\n",
    "    \"dennryu\": 1\n",
    "}\n",
    "\n",
    "#R = [100000 + i*5000 for i in range(120)]\n",
    "R = [800000 + i*5000 for i in range(11)]\n",
    "#R = [380000 + i*5000 for i in range(25)]\n",
    "#R = [500000 + i*5000 for i in range(5)]\n",
    "#R = [300000 + i*5000 for i in range(101)]\n",
    "# R = [430000 + i*5000 for i in range(8)] #fulcher-alpha\n",
    "# R = [430000] # \n",
    "#R = [700000 + i*10000 for i in range(10)]\n",
    "#R = [740000 + i*5000 for i in range(5)]\n",
    "for r in log_progress(R):\n",
    "    step_motor.goto(r)\n",
    "    step_motor.waitUntilReady()\n",
    "    attributes['motor_coordinate'] = r\n",
    "    \n",
    "    camera.setExposureTime(exposure)\n",
    "    camera.setVBin(vbin)\n",
    "    camera.setImageArea(10,0,2058,512//vbin)\n",
    "    time.sleep(.5)\n",
    "    camera.exposeFrame()\n",
    "    time.sleep(.1)\n",
    "    # load image\n",
    "    image_data = camera.grabFrame(out=np.empty((512//vbin,2048), np.uint16))\n",
    "    # convert to xarray\n",
    "    data = xr.DataArray(\n",
    "        image_data, dims=[\"y\", \"x\"], coords={\"image_counter\": 0}, attrs=attributes\n",
    "    )\n",
    "    # save data as NetCDF file\n",
    "    filepath = join(basepath,f'{name}-{r}-{exposure}ms.nc')\n",
    "    print(filepath)\n",
    "    data.to_netcdf(filepath)\n",
    "print('Done.')"
   ]
  },
  {
   "cell_type": "code",
   "execution_count": null,
   "metadata": {},
   "outputs": [],
   "source": []
  }
 ],
 "metadata": {
  "kernelspec": {
   "display_name": "Python 3.7.6 ('base')",
   "language": "python",
   "name": "python3"
  },
  "language_info": {
   "codemirror_mode": {
    "name": "ipython",
    "version": 3
   },
   "file_extension": ".py",
   "mimetype": "text/x-python",
   "name": "python",
   "nbconvert_exporter": "python",
   "pygments_lexer": "ipython3",
   "version": "3.7.6"
  },
  "vscode": {
   "interpreter": {
    "hash": "8d1f61d1ec77385b538f74153f33ec8913b2f7bbd787f992d5dc4d25e2068582"
   }
  }
 },
 "nbformat": 4,
 "nbformat_minor": 4
}
