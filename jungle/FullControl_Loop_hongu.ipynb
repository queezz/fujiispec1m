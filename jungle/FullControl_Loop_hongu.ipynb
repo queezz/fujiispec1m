{
 "cells": [
  {
   "cell_type": "markdown",
   "metadata": {},
   "source": [
    "# Spectra acquisiton\n",
    "Control both the stepping motor and the camera from this notebook.<br>\n",
    "Make a loop to measure a wide-range spectrum automatically.\n",
    "\n",
    "NOTE: only one connection to COM port is possible at a time. Shut down other connections, either in python or dedicated software."
   ]
  },
  {
   "cell_type": "code",
   "execution_count": 1,
   "metadata": {},
   "outputs": [
    {
     "name": "stdout",
     "output_type": "stream",
     "text": [
      "Populating the interactive namespace from numpy and matplotlib\n"
     ]
    }
   ],
   "source": [
    "%pylab inline"
   ]
  },
  {
   "cell_type": "code",
   "execution_count": 2,
   "metadata": {},
   "outputs": [],
   "source": [
    "import time, os, logging\n",
    "from FLI import FLI\n",
    "import numpy as np\n",
    "import xarray as xr\n",
    "from os.path import join"
   ]
  },
  {
   "cell_type": "code",
   "execution_count": 3,
   "metadata": {},
   "outputs": [],
   "source": [
    "%run thr640.py\n",
    "%run imaging_tool.py"
   ]
  },
  {
   "cell_type": "code",
   "execution_count": 4,
   "metadata": {},
   "outputs": [],
   "source": [
    "logger = logger\n",
    "logger.setLevel(50) # 10 - DEBUG 50 - CRITICAL 20 - INFO\n",
    "camera = FLI()\n",
    "step_motor = THR640() # Can only have one instance."
   ]
  },
  {
   "cell_type": "code",
   "execution_count": 5,
   "metadata": {},
   "outputs": [
    {
     "data": {
      "text/plain": [
       "True"
      ]
     },
     "execution_count": 5,
     "metadata": {},
     "output_type": "execute_result"
    }
   ],
   "source": [
    "basepath = r'\\\\10.249.254.51\\Public\\Fujii\\data\\hongu\\2020.10.05'\n",
    "os.path.exists(basepath)"
   ]
  },
  {
   "cell_type": "code",
   "execution_count": 6,
   "metadata": {},
   "outputs": [
    {
     "data": {
      "text/plain": [
       "'\\\\\\\\10.249.254.51\\\\Public\\\\Fujii\\\\data\\\\hongu\\\\2020.10.05\\\\a.nc'"
      ]
     },
     "execution_count": 6,
     "metadata": {},
     "output_type": "execute_result"
    }
   ],
   "source": [
    "join(basepath,'a.nc')"
   ]
  },
  {
   "cell_type": "code",
   "execution_count": 7,
   "metadata": {},
   "outputs": [
    {
     "data": {
      "application/vnd.jupyter.widget-view+json": {
       "model_id": "cf9d0e9d01da48aead4911bcd2893381",
       "version_major": 2,
       "version_minor": 0
      },
      "text/plain": [
       "VBox(children=(HTML(value=''), IntProgress(value=0, max=2)))"
      ]
     },
     "metadata": {},
     "output_type": "display_data"
    },
    {
     "name": "stdout",
     "output_type": "stream",
     "text": [
      "\\\\10.249.254.51\\Public\\Fujii\\data\\hongu\\2020.10.05\\H_410000.nc\n",
      "\\\\10.249.254.51\\Public\\Fujii\\data\\hongu\\2020.10.05\\H_415000.nc\n",
      "Done.\n"
     ]
    }
   ],
   "source": [
    "exposure = 1.5 * 1e2 # ms\n",
    "vbin = 1\n",
    "attributes = {\n",
    "    \"temperature\": camera.getTemperature(),\n",
    "    \"device_status\": camera.getDeviceStatus(),\n",
    "    \"exposure\": exposure,\n",
    "    \"frame_type\": \"light\",\n",
    "    \"motor_coordinate\":\"\",\n",
    "}\n",
    "\n",
    "camera.setExposureTime(exposure)\n",
    "camera.setVBin(vbin)\n",
    "camera.setImageArea(10,0,2058,512//vbin)\n",
    "time.sleep(.5)\n",
    "\n",
    "R = [410000 + i*5000 for i in range(2)]\n",
    "for r in log_progress(R):\n",
    "    step_motor.goto(r)\n",
    "    step_motor.waitUntilReady()\n",
    "    attributes['motor_coordinate'] = r\n",
    "    \n",
    "    camera.exposeFrame()\n",
    "    time.sleep(.1)\n",
    "    # load image\n",
    "    image_data = camera.grabFrame(out=np.empty((512//vbin,2048), np.uint16))\n",
    "    # convert to xarray\n",
    "    data = xr.DataArray(\n",
    "        image_data, dims=[\"y\", \"x\"], coords={\"image_counter\": r}, attrs=attributes\n",
    "    )\n",
    "    # save data as NetCDF file\n",
    "    filepath = join(basepath,f'H_{r}.nc')\n",
    "    print(filepath)\n",
    "    data.to_netcdf(filepath)\n",
    "print('Done.')"
   ]
  },
  {
   "cell_type": "code",
   "execution_count": 8,
   "metadata": {},
   "outputs": [
    {
     "data": {
      "text/plain": [
       "[400000,\n",
       " 409000,\n",
       " 418000,\n",
       " 427000,\n",
       " 436000,\n",
       " 445000,\n",
       " 454000,\n",
       " 463000,\n",
       " 472000,\n",
       " 481000,\n",
       " 490000,\n",
       " 499000,\n",
       " 508000,\n",
       " 517000,\n",
       " 526000]"
      ]
     },
     "execution_count": 8,
     "metadata": {},
     "output_type": "execute_result"
    }
   ],
   "source": [
    "[400000 + i*9000 for i in range(15)]"
   ]
  }
 ],
 "metadata": {
  "kernelspec": {
   "display_name": "Python 3",
   "language": "python",
   "name": "python3"
  },
  "language_info": {
   "codemirror_mode": {
    "name": "ipython",
    "version": 3
   },
   "file_extension": ".py",
   "mimetype": "text/x-python",
   "name": "python",
   "nbconvert_exporter": "python",
   "pygments_lexer": "ipython3",
   "version": "3.7.6"
  }
 },
 "nbformat": 4,
 "nbformat_minor": 4
}
