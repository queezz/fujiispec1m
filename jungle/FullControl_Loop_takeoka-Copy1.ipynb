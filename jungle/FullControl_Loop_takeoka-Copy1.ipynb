{
 "cells": [
  {
   "cell_type": "markdown",
   "metadata": {},
   "source": [
    "# Spectra acquisiton\n",
    "Control both the stepping motor and the camera from this notebook.<br>\n",
    "Make a loop to measure a wide-range spectrum automatically.\n",
    "\n",
    "NOTE: only one connection to COM port is possible at a time. Shut down other connections, either in python or dedicated software."
   ]
  },
  {
   "cell_type": "code",
   "execution_count": 1,
   "metadata": {},
   "outputs": [
    {
     "name": "stdout",
     "output_type": "stream",
     "text": [
      "Populating the interactive namespace from numpy and matplotlib\n"
     ]
    }
   ],
   "source": [
    "%pylab inline"
   ]
  },
  {
   "cell_type": "code",
   "execution_count": 2,
   "metadata": {},
   "outputs": [],
   "source": [
    "from lab_control.spectrometer import thr640\n",
    "from lab_control import pwr01"
   ]
  },
  {
   "cell_type": "code",
   "execution_count": 3,
   "metadata": {},
   "outputs": [],
   "source": [
    "import sys\n",
    "sys.path.append('../')"
   ]
  },
  {
   "cell_type": "code",
   "execution_count": 4,
   "metadata": {},
   "outputs": [],
   "source": [
    "import time, os, logging\n",
    "from FLI import FLI\n",
    "import numpy as np\n",
    "import xarray as xr\n",
    "from os.path import join\n",
    "import csv"
   ]
  },
  {
   "cell_type": "code",
   "execution_count": 5,
   "metadata": {},
   "outputs": [],
   "source": [
    "%run thr640.py\n",
    "%run imaging_tool.py"
   ]
  },
  {
   "cell_type": "code",
   "execution_count": 6,
   "metadata": {},
   "outputs": [],
   "source": [
    "# logger\n",
    "logger = thr640.logger\n",
    "camera = FLI()\n",
    "step_motor = thr640.THR640()"
   ]
  },
  {
   "cell_type": "code",
   "execution_count": 7,
   "metadata": {},
   "outputs": [
    {
     "name": "stdout",
     "output_type": "stream",
     "text": [
      "<usbtmc.usbtmc.Instrument object at 0x0000017DE4D6FA08>\n",
      "<usbtmc.usbtmc.Instrument object at 0x0000017DE4D7C288>\n",
      "<usbtmc.usbtmc.Instrument object at 0x0000017DE4D7C4C8>\n"
     ]
    }
   ],
   "source": [
    "pwr = pwr01.PWR01()"
   ]
  },
  {
   "cell_type": "code",
   "execution_count": 14,
   "metadata": {},
   "outputs": [],
   "source": [
    "pwr.set_current(0.5)\n",
    "pwr.set_voltage(350)\n",
    "pwr.output_on()"
   ]
  },
  {
   "cell_type": "code",
   "execution_count": 15,
   "metadata": {},
   "outputs": [
    {
     "data": {
      "text/plain": [
       "True"
      ]
     },
     "execution_count": 15,
     "metadata": {},
     "output_type": "execute_result"
    }
   ],
   "source": [
    "basepath = r'\\\\10.249.254.51\\Public\\takeoka\\Spectraacquisition_takeoka_20201105'\n",
    "os.path.exists(basepath)"
   ]
  },
  {
   "cell_type": "code",
   "execution_count": 16,
   "metadata": {},
   "outputs": [
    {
     "data": {
      "text/plain": [
       "'\\\\\\\\10.249.254.51\\\\Public\\\\takeoka\\\\Spectraacquisition_takeoka_20201105\\\\a.nc'"
      ]
     },
     "execution_count": 16,
     "metadata": {},
     "output_type": "execute_result"
    }
   ],
   "source": [
    "join(basepath,'a.nc')"
   ]
  },
  {
   "cell_type": "code",
   "execution_count": 17,
   "metadata": {},
   "outputs": [
    {
     "data": {
      "application/vnd.jupyter.widget-view+json": {
       "model_id": "553acbed33804eb79fbd0486f06799bc",
       "version_major": 2,
       "version_minor": 0
      },
      "text/plain": [
       "VBox(children=(HTML(value=''), IntProgress(value=0, max=14)))"
      ]
     },
     "metadata": {},
     "output_type": "display_data"
    },
    {
     "name": "stdout",
     "output_type": "stream",
     "text": [
      "\\\\10.249.254.51\\Public\\takeoka\\Spectraacquisition_takeoka_20201105\\H_420000_1.nc\n",
      "\\\\10.249.254.51\\Public\\takeoka\\Spectraacquisition_takeoka_20201105\\H_420000_2.nc\n",
      "\\\\10.249.254.51\\Public\\takeoka\\Spectraacquisition_takeoka_20201105\\H_420000_3.nc\n",
      "\\\\10.249.254.51\\Public\\takeoka\\Spectraacquisition_takeoka_20201105\\H_425000_1.nc\n",
      "\\\\10.249.254.51\\Public\\takeoka\\Spectraacquisition_takeoka_20201105\\H_425000_2.nc\n",
      "\\\\10.249.254.51\\Public\\takeoka\\Spectraacquisition_takeoka_20201105\\H_425000_3.nc\n",
      "\\\\10.249.254.51\\Public\\takeoka\\Spectraacquisition_takeoka_20201105\\H_430000_1.nc\n",
      "\\\\10.249.254.51\\Public\\takeoka\\Spectraacquisition_takeoka_20201105\\H_430000_2.nc\n",
      "\\\\10.249.254.51\\Public\\takeoka\\Spectraacquisition_takeoka_20201105\\H_430000_3.nc\n",
      "\\\\10.249.254.51\\Public\\takeoka\\Spectraacquisition_takeoka_20201105\\H_435000_1.nc\n",
      "\\\\10.249.254.51\\Public\\takeoka\\Spectraacquisition_takeoka_20201105\\H_435000_2.nc\n",
      "\\\\10.249.254.51\\Public\\takeoka\\Spectraacquisition_takeoka_20201105\\H_435000_3.nc\n",
      "\\\\10.249.254.51\\Public\\takeoka\\Spectraacquisition_takeoka_20201105\\H_440000_1.nc\n",
      "\\\\10.249.254.51\\Public\\takeoka\\Spectraacquisition_takeoka_20201105\\H_440000_2.nc\n",
      "\\\\10.249.254.51\\Public\\takeoka\\Spectraacquisition_takeoka_20201105\\H_440000_3.nc\n",
      "\\\\10.249.254.51\\Public\\takeoka\\Spectraacquisition_takeoka_20201105\\H_445000_1.nc\n",
      "\\\\10.249.254.51\\Public\\takeoka\\Spectraacquisition_takeoka_20201105\\H_445000_2.nc\n",
      "\\\\10.249.254.51\\Public\\takeoka\\Spectraacquisition_takeoka_20201105\\H_445000_3.nc\n",
      "\\\\10.249.254.51\\Public\\takeoka\\Spectraacquisition_takeoka_20201105\\H_450000_1.nc\n",
      "\\\\10.249.254.51\\Public\\takeoka\\Spectraacquisition_takeoka_20201105\\H_450000_2.nc\n",
      "\\\\10.249.254.51\\Public\\takeoka\\Spectraacquisition_takeoka_20201105\\H_450000_3.nc\n",
      "\\\\10.249.254.51\\Public\\takeoka\\Spectraacquisition_takeoka_20201105\\H_455000_1.nc\n",
      "\\\\10.249.254.51\\Public\\takeoka\\Spectraacquisition_takeoka_20201105\\H_455000_2.nc\n",
      "\\\\10.249.254.51\\Public\\takeoka\\Spectraacquisition_takeoka_20201105\\H_455000_3.nc\n",
      "\\\\10.249.254.51\\Public\\takeoka\\Spectraacquisition_takeoka_20201105\\H_460000_1.nc\n",
      "\\\\10.249.254.51\\Public\\takeoka\\Spectraacquisition_takeoka_20201105\\H_460000_2.nc\n",
      "\\\\10.249.254.51\\Public\\takeoka\\Spectraacquisition_takeoka_20201105\\H_460000_3.nc\n",
      "\\\\10.249.254.51\\Public\\takeoka\\Spectraacquisition_takeoka_20201105\\H_465000_1.nc\n",
      "\\\\10.249.254.51\\Public\\takeoka\\Spectraacquisition_takeoka_20201105\\H_465000_2.nc\n",
      "\\\\10.249.254.51\\Public\\takeoka\\Spectraacquisition_takeoka_20201105\\H_465000_3.nc\n",
      "\\\\10.249.254.51\\Public\\takeoka\\Spectraacquisition_takeoka_20201105\\H_470000_1.nc\n",
      "\\\\10.249.254.51\\Public\\takeoka\\Spectraacquisition_takeoka_20201105\\H_470000_2.nc\n",
      "\\\\10.249.254.51\\Public\\takeoka\\Spectraacquisition_takeoka_20201105\\H_470000_3.nc\n",
      "\\\\10.249.254.51\\Public\\takeoka\\Spectraacquisition_takeoka_20201105\\H_475000_1.nc\n",
      "\\\\10.249.254.51\\Public\\takeoka\\Spectraacquisition_takeoka_20201105\\H_475000_2.nc\n",
      "\\\\10.249.254.51\\Public\\takeoka\\Spectraacquisition_takeoka_20201105\\H_475000_3.nc\n",
      "\\\\10.249.254.51\\Public\\takeoka\\Spectraacquisition_takeoka_20201105\\H_480000_1.nc\n",
      "\\\\10.249.254.51\\Public\\takeoka\\Spectraacquisition_takeoka_20201105\\H_480000_2.nc\n",
      "\\\\10.249.254.51\\Public\\takeoka\\Spectraacquisition_takeoka_20201105\\H_480000_3.nc\n",
      "\\\\10.249.254.51\\Public\\takeoka\\Spectraacquisition_takeoka_20201105\\H_485000_1.nc\n",
      "\\\\10.249.254.51\\Public\\takeoka\\Spectraacquisition_takeoka_20201105\\H_485000_2.nc\n",
      "\\\\10.249.254.51\\Public\\takeoka\\Spectraacquisition_takeoka_20201105\\H_485000_3.nc\n",
      "Done.\n"
     ]
    },
    {
     "data": {
      "text/plain": [
       "<matplotlib.colorbar.Colorbar at 0x17de5227c48>"
      ]
     },
     "execution_count": 17,
     "metadata": {},
     "output_type": "execute_result"
    },
    {
     "data": {
      "image/png": "[encoded data removed]",
      "text/plain": [
       "<Figure size 432x288 with 2 Axes>"
      ]
     },
     "metadata": {
      "needs_background": "light"
     },
     "output_type": "display_data"
    }
   ],
   "source": [
    "exposure = 1.5 * 1e2 # ms\n",
    "vbin = 1\n",
    "attributes = {\n",
    "    \"temperature\": camera.getTemperature(),\n",
    "    \"device_status\": camera.getDeviceStatus(),\n",
    "    \"exposure\": exposure,\n",
    "    \"frame_type\": \"light\",\n",
    "    \"motor_coordinate\":\"\",\n",
    "    'voltage': pwr.get_voltage(),\n",
    "    'current': pwr.get_current()\n",
    "}\n",
    "\n",
    "#R = [100000 + i*5000 for i in range(101)]\n",
    "#R = [605000 + i*5000 for i in range(20)]\n",
    "#R = [380000 + i*5000 for i in range(25)]\n",
    "#R = [500000 + i*5000 for i in range(5)]\n",
    "#R = [400000 + i*9000 for i in range(15)]\n",
    "R = [420000 + i*5000 for i in range(14)]\n",
    "for r in log_progress(R):\n",
    "    for j in range(3):\n",
    "        if j%3==0:\n",
    "            current=0.1\n",
    "        elif j%3==1:\n",
    "            current=0.2\n",
    "        else:\n",
    "            current=0.3\n",
    "            \n",
    "        pwr.set_current(current)\n",
    " \n",
    "        \n",
    "        \n",
    "        step_motor.goto(r)\n",
    "        step_motor.waitUntilReady()\n",
    "        attributes['motor_coordinate'] = r\n",
    "    \n",
    "        camera.setExposureTime(exposure)\n",
    "        camera.setVBin(vbin)\n",
    "        camera.setImageArea(10,0,2058,512//vbin)\n",
    "        time.sleep(.5)\n",
    "        camera.exposeFrame()\n",
    "        time.sleep(.1)\n",
    "        # load image\n",
    "        image_data = camera.grabFrame(out=np.empty((512//vbin,2048), np.uint16))\n",
    "        # convert to xarray\n",
    "        data = xr.DataArray(\n",
    "            image_data, dims=[\"y\", \"x\"], coords={\"image_counter\": 0}, attrs=attributes\n",
    "        )\n",
    "        # save data as NetCDF file\n",
    "        filepath = join(basepath,f'H_{r}_{j+1}.nc')\n",
    "        print(filepath)\n",
    "        data.to_netcdf(filepath)\n",
    "    \n",
    "print('Done.')\n",
    "imshow(image_data)\n",
    "colorbar()"
   ]
  },
  {
   "cell_type": "code",
   "execution_count": 8,
   "metadata": {},
   "outputs": [
    {
     "data": {
      "text/plain": [
       "[430000,\n",
       " 435000,\n",
       " 440000,\n",
       " 445000,\n",
       " 450000,\n",
       " 455000,\n",
       " 460000,\n",
       " 465000,\n",
       " 470000,\n",
       " 475000]"
      ]
     },
     "execution_count": 8,
     "metadata": {},
     "output_type": "execute_result"
    }
   ],
   "source": [
    "[430000 + i*5000 for i in range(10)]"
   ]
  },
  {
   "cell_type": "code",
   "execution_count": null,
   "metadata": {},
   "outputs": [],
   "source": []
  }
 ],
 "metadata": {
  "kernelspec": {
   "display_name": "Python 3",
   "language": "python",
   "name": "python3"
  },
  "language_info": {
   "codemirror_mode": {
    "name": "ipython",
    "version": 3
   },
   "file_extension": ".py",
   "mimetype": "text/x-python",
   "name": "python",
   "nbconvert_exporter": "python",
   "pygments_lexer": "ipython3",
   "version": "3.7.6"
  }
 },
 "nbformat": 4,
 "nbformat_minor": 4
}
