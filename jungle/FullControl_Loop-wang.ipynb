{
 "cells": [
  {
   "cell_type": "markdown",
   "metadata": {},
   "source": [
    "# Spectra acquisiton\n",
    "Control both the stepping motor and the camera from this notebook.<br>\n",
    "Make a loop to measure a wide-range spectrum automatically.\n",
    "\n",
    "NOTE: only one connection to COM port is possible at a time. Shut down other connections, either in python or dedicated software."
   ]
  },
  {
   "cell_type": "code",
   "execution_count": 1,
   "metadata": {},
   "outputs": [
    {
     "name": "stdout",
     "output_type": "stream",
     "text": [
      "Populating the interactive namespace from numpy and matplotlib\n"
     ]
    }
   ],
   "source": [
    "%pylab inline "
   ]
  },
  {
   "cell_type": "code",
   "execution_count": 2,
   "metadata": {},
   "outputs": [],
   "source": [
    "import time, os, logging\n",
    "from FLI import FLI\n",
    "import numpy as np\n",
    "import xarray as xr\n",
    "from os.path import join\n",
    "import datetime"
   ]
  },
  {
   "cell_type": "code",
   "execution_count": 3,
   "metadata": {},
   "outputs": [],
   "source": [
    "%run thr640.py\n",
    "%run imaging_tool.py"
   ]
  },
  {
   "cell_type": "code",
   "execution_count": null,
   "metadata": {},
   "outputs": [],
   "source": [
    "logger = logger\n",
    "logger.setLevel(50) # 10 - DEBUG 50 - CRITICAL 20 - INFO\n",
    "camera = FLI()\n",
    "step_motor = THR640() # Can only have one instance."
   ]
  },
  {
   "cell_type": "code",
   "execution_count": null,
   "metadata": {
    "scrolled": true
   },
   "outputs": [],
   "source": [
    "basepath = r'\\\\10.249.254.51\\Public\\BACK_UP\\wang'\n",
    "# basepath = r'C:\\Users\\fujii\\Documents\\python\\kuzmin\\hayashi\\0121'\n",
    "if not os.path.exists(basepath):\n",
    "    os.makedirs(basepath)"
   ]
  },
  {
   "cell_type": "code",
   "execution_count": null,
   "metadata": {},
   "outputs": [],
   "source": [
    "ccw_limit = 0\n",
    "cw_limit = 1030000"
   ]
  },
  {
   "cell_type": "markdown",
   "metadata": {},
   "source": [
    "# Single"
   ]
  },
  {
   "cell_type": "code",
   "execution_count": null,
   "metadata": {
    "scrolled": true
   },
   "outputs": [],
   "source": [
    "name=(\"pla\")\n",
    "exposure = 100 # ms\n",
    "tag=\"\"\n",
    "# count = 628110 # BH/\n",
    "# count=450000 # 625 nm\n",
    "# count=740000 # 307.5 nm\n",
    "# count=100000 # 840 nm\n",
    "# count=666000 # Hdelta\n",
    "# count=644000 # Hgamma\n",
    "# count=595000 # Hbeta\n",
    "count=411000 # Halpha\n",
    "# count=\n",
    "# count=302000\n",
    "# count=463000 #614 nm\n",
    "# count=488000\n",
    "# count=700000\n",
    "# count=213000 # OI\n",
    "# count=175000\n",
    "# count = 0\n",
    "\n",
    "step_motor.goto(count)\n",
    "step_motor.waitUntilReady()\n",
    "vbin = 1\n",
    "attributes = {\n",
    "    \"temperature\": camera.getTemperature(),\n",
    "    \"device_status\": camera.getDeviceStatus(),\n",
    "    \"exposure\": exposure,\n",
    "    \"frame_type\": \"light\",\n",
    "}\n",
    "camera.setExposureTime(exposure);camera.setVBin(vbin);camera.setImageArea(10,0,2058,512//vbin);camera.exposeFrame()\n",
    "time.sleep(.1)\n",
    "# load image\n",
    "image_data = camera.grabFrame(out=np.empty((512//vbin,2048), np.uint16))\n",
    "# convert to xarray\n",
    "data = xr.DataArray(\n",
    "    image_data, dims=[\"y\", \"x\"], coords={\"image_counter\": 0}, attrs=attributes\n",
    ")\n",
    "# save data as NetCDF file\n",
    "filepath = join(basepath,f'{name}-{count}-{exposure}ms-{tag}.nc')\n",
    "data.to_netcdf(filepath)\n",
    "plot_image(image_data)"
   ]
  },
  {
   "cell_type": "markdown",
   "metadata": {},
   "source": [
    "# LOOP"
   ]
  },
  {
   "cell_type": "code",
   "execution_count": 8,
   "metadata": {},
   "outputs": [
    {
     "ename": "",
     "evalue": "",
     "output_type": "error",
     "traceback": [
      "\u001b[1;31mCannot execute code, session has been disposed. Please try restarting the Kernel."
     ]
    },
    {
     "ename": "",
     "evalue": "",
     "output_type": "error",
     "traceback": [
      "\u001b[1;31mCannot execute code, session has been disposed. Please try restarting the Kernel. \n",
      "\u001b[1;31mView Jupyter <a href='command:jupyter.viewOutput'>log</a> for further details."
     ]
    }
   ],
   "source": [
    "name=(\"plaback\")\n",
    "# name=(\"background\")\n",
    "# tag=\"cleaning\"\n",
    "tag=\"\"\n",
    "ampere = 3\n",
    "# R = range(200000,805000,5000)\n",
    "# R = [211000,212000,215000,216000]\n",
    "R = [347000,337000,327000,488000]\n",
    "# R = [635000+5000*i for i in range(5)]\n",
    "# R = [180000,185000,195000]\n",
    "# R = [500000+2000*i for i in range()]\n",
    "# R = [(i+1)*5000 for i in range(200)]\n",
    "# R = [420000]\n",
    "# T = [60e3,10e3,60e3,60e3]\n",
    "T = [300e3]*len(R)\n",
    "# T = [60e3]*6\n",
    "# T = [10e3]*4 #H2onlyloop\n",
    "# T = [100e3,50e3,50e3,50e3] #H2O2loop\n",
    "# T = [10e3]*100\n",
    "hour=datetime.datetime.now().hour;minute=datetime.datetime.now().minute\n",
    "\n",
    "for i in range(len(R)):\n",
    "    if ccw_limit < R[i] < cw_limit:\n",
    "        step_motor.goto(R[i]);step_motor.waitUntilReady();vbin = 1\n",
    "        attributes = {\n",
    "            \"temperature\": camera.getTemperature(),\n",
    "            \"device_status\": camera.getDeviceStatus(),\n",
    "            \"exposure\": T[i],\n",
    "            \"frame_type\": \"light\",\n",
    "        }\n",
    "        camera.setExposureTime(T[i]);camera.setVBin(vbin);camera.setImageArea(10,0,2058,512//vbin);camera.exposeFrame()\n",
    "        time.sleep(.1)\n",
    "        \n",
    "        image_data = camera.grabFrame(out=np.empty((512//vbin,2048), np.uint16)) # load image\n",
    "        data = xr.DataArray(image_data, dims=[\"y\", \"x\"], coords={\"image_counter\": 0}, attrs=attributes) # convert to xarray\n",
    "        plot_image(image_data)\n",
    "        # filepath = join(basepath,f'{name}-{R[i]}-{T[i]}ms-{ampere}A-{tag}-{hour}{minute}.nc')\n",
    "        filepath = join(basepath,f'{name}-{R[i]}-{T[i]}ms-{hour}{minute}-{tag}.nc')\n",
    "        data.to_netcdf(filepath) # save data as NetCDF file\n",
    "    else:\n",
    "        print(\"out of range\")\n",
    "        break"
   ]
  },
  {
   "cell_type": "code",
   "execution_count": null,
   "metadata": {},
   "outputs": [],
   "source": [
    "import sys\n",
    "print(sys.getrecursionlimit())\n",
    "\n",
    "sys.exit()"
   ]
  },
  {
   "cell_type": "code",
   "execution_count": null,
   "metadata": {},
   "outputs": [],
   "source": []
  }
 ],
 "metadata": {
  "kernelspec": {
   "display_name": "base",
   "language": "python",
   "name": "python3"
  },
  "language_info": {
   "codemirror_mode": {
    "name": "ipython",
    "version": 3
   },
   "file_extension": ".py",
   "mimetype": "text/x-python",
   "name": "python",
   "nbconvert_exporter": "python",
   "pygments_lexer": "ipython3",
   "version": "3.7.6"
  }
 },
 "nbformat": 4,
 "nbformat_minor": 4
}
