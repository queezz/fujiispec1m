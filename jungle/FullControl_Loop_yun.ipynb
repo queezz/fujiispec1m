{
 "cells": [
  {
   "cell_type": "markdown",
   "metadata": {},
   "source": [
    "# Spectra acquisiton\n",
    "Control both the stepping motor and the camera from this notebook.<br>\n",
    "Make a loop to measure a wide-range spectrum automatically.\n",
    "\n",
    "NOTE: only one connection to COM port is possible at a time. Shut down other connections, either in python or dedicated software."
   ]
  },
  {
   "cell_type": "code",
   "execution_count": 1,
   "metadata": {},
   "outputs": [
    {
     "name": "stdout",
     "output_type": "stream",
     "text": [
      "Populating the interactive namespace from numpy and matplotlib\n"
     ]
    }
   ],
   "source": [
    "%pylab inline"
   ]
  },
  {
   "cell_type": "code",
   "execution_count": 2,
   "metadata": {},
   "outputs": [],
   "source": [
    "from lab_control.spectrometer import thr640"
   ]
  },
  {
   "cell_type": "code",
   "execution_count": 3,
   "metadata": {},
   "outputs": [],
   "source": [
    "from FLI import FLI\n",
    "import numpy as np\n",
    "import time\n",
    "import logging\n",
    "import csv\n",
    "import xarray as xr\n",
    "from os.path import join\n",
    "import os"
   ]
  },
  {
   "cell_type": "code",
   "execution_count": 4,
   "metadata": {},
   "outputs": [],
   "source": [
    "%run thr640.py\n",
    "%run imaging_tool.py"
   ]
  },
  {
   "cell_type": "code",
   "execution_count": null,
   "metadata": {},
   "outputs": [],
   "source": []
  },
  {
   "cell_type": "code",
   "execution_count": 5,
   "metadata": {},
   "outputs": [],
   "source": [
    "logger = logger\n",
    "logger.setLevel(50) # 10 - DEBUG 50 - CRITICAL 20 - INFO\n",
    "camera = FLI()\n",
    "step_motor = THR640() # Can only have one instance."
   ]
  },
  {
   "cell_type": "code",
   "execution_count": 6,
   "metadata": {},
   "outputs": [
    {
     "data": {
      "text/plain": [
       "True"
      ]
     },
     "execution_count": 6,
     "metadata": {},
     "output_type": "execute_result"
    }
   ],
   "source": [
    "basepath = r'\\\\10.249.254.51\\Public\\Kuzmin\\Experiments-Leprecon\\Spectrometer\\20201126_yun\\Hydrogen_lamp'\n",
    "os.path.exists(basepath)"
   ]
  },
  {
   "cell_type": "code",
   "execution_count": 7,
   "metadata": {},
   "outputs": [
    {
     "data": {
      "text/plain": [
       "'\\\\\\\\10.249.254.51\\\\Public\\\\Kuzmin\\\\Experiments-Leprecon\\\\Spectrometer\\\\20201126_yun\\\\Hydrogen_lamp\\\\a.nc'"
      ]
     },
     "execution_count": 7,
     "metadata": {},
     "output_type": "execute_result"
    }
   ],
   "source": [
    "join(basepath,'a.nc')"
   ]
  },
  {
   "cell_type": "code",
   "execution_count": 8,
   "metadata": {
    "collapsed": true
   },
   "outputs": [
    {
     "data": {
      "application/vnd.jupyter.widget-view+json": {
       "model_id": "a379304557ba47ec9e6207d0b825136a",
       "version_major": 2,
       "version_minor": 0
      },
      "text/plain": [
       "VBox(children=(HTML(value=''), IntProgress(value=0)))"
      ]
     },
     "metadata": {},
     "output_type": "display_data"
    },
    {
     "name": "stdout",
     "output_type": "stream",
     "text": [
      "\\\\10.249.254.51\\Public\\Kuzmin\\Experiments-Leprecon\\Spectrometer\\20201126_yun\\Hydrogen_lamp\\H_200000.nc\n",
      "\\\\10.249.254.51\\Public\\Kuzmin\\Experiments-Leprecon\\Spectrometer\\20201126_yun\\Hydrogen_lamp\\H_205000.nc\n",
      "\\\\10.249.254.51\\Public\\Kuzmin\\Experiments-Leprecon\\Spectrometer\\20201126_yun\\Hydrogen_lamp\\H_210000.nc\n",
      "\\\\10.249.254.51\\Public\\Kuzmin\\Experiments-Leprecon\\Spectrometer\\20201126_yun\\Hydrogen_lamp\\H_215000.nc\n",
      "\\\\10.249.254.51\\Public\\Kuzmin\\Experiments-Leprecon\\Spectrometer\\20201126_yun\\Hydrogen_lamp\\H_220000.nc\n",
      "\\\\10.249.254.51\\Public\\Kuzmin\\Experiments-Leprecon\\Spectrometer\\20201126_yun\\Hydrogen_lamp\\H_225000.nc\n",
      "\\\\10.249.254.51\\Public\\Kuzmin\\Experiments-Leprecon\\Spectrometer\\20201126_yun\\Hydrogen_lamp\\H_230000.nc\n",
      "\\\\10.249.254.51\\Public\\Kuzmin\\Experiments-Leprecon\\Spectrometer\\20201126_yun\\Hydrogen_lamp\\H_235000.nc\n",
      "\\\\10.249.254.51\\Public\\Kuzmin\\Experiments-Leprecon\\Spectrometer\\20201126_yun\\Hydrogen_lamp\\H_240000.nc\n",
      "\\\\10.249.254.51\\Public\\Kuzmin\\Experiments-Leprecon\\Spectrometer\\20201126_yun\\Hydrogen_lamp\\H_245000.nc\n",
      "\\\\10.249.254.51\\Public\\Kuzmin\\Experiments-Leprecon\\Spectrometer\\20201126_yun\\Hydrogen_lamp\\H_250000.nc\n",
      "\\\\10.249.254.51\\Public\\Kuzmin\\Experiments-Leprecon\\Spectrometer\\20201126_yun\\Hydrogen_lamp\\H_255000.nc\n",
      "\\\\10.249.254.51\\Public\\Kuzmin\\Experiments-Leprecon\\Spectrometer\\20201126_yun\\Hydrogen_lamp\\H_260000.nc\n",
      "\\\\10.249.254.51\\Public\\Kuzmin\\Experiments-Leprecon\\Spectrometer\\20201126_yun\\Hydrogen_lamp\\H_265000.nc\n",
      "\\\\10.249.254.51\\Public\\Kuzmin\\Experiments-Leprecon\\Spectrometer\\20201126_yun\\Hydrogen_lamp\\H_270000.nc\n",
      "\\\\10.249.254.51\\Public\\Kuzmin\\Experiments-Leprecon\\Spectrometer\\20201126_yun\\Hydrogen_lamp\\H_275000.nc\n",
      "\\\\10.249.254.51\\Public\\Kuzmin\\Experiments-Leprecon\\Spectrometer\\20201126_yun\\Hydrogen_lamp\\H_280000.nc\n",
      "\\\\10.249.254.51\\Public\\Kuzmin\\Experiments-Leprecon\\Spectrometer\\20201126_yun\\Hydrogen_lamp\\H_285000.nc\n",
      "\\\\10.249.254.51\\Public\\Kuzmin\\Experiments-Leprecon\\Spectrometer\\20201126_yun\\Hydrogen_lamp\\H_290000.nc\n",
      "\\\\10.249.254.51\\Public\\Kuzmin\\Experiments-Leprecon\\Spectrometer\\20201126_yun\\Hydrogen_lamp\\H_295000.nc\n",
      "\\\\10.249.254.51\\Public\\Kuzmin\\Experiments-Leprecon\\Spectrometer\\20201126_yun\\Hydrogen_lamp\\H_300000.nc\n",
      "\\\\10.249.254.51\\Public\\Kuzmin\\Experiments-Leprecon\\Spectrometer\\20201126_yun\\Hydrogen_lamp\\H_305000.nc\n",
      "\\\\10.249.254.51\\Public\\Kuzmin\\Experiments-Leprecon\\Spectrometer\\20201126_yun\\Hydrogen_lamp\\H_310000.nc\n",
      "\\\\10.249.254.51\\Public\\Kuzmin\\Experiments-Leprecon\\Spectrometer\\20201126_yun\\Hydrogen_lamp\\H_315000.nc\n",
      "\\\\10.249.254.51\\Public\\Kuzmin\\Experiments-Leprecon\\Spectrometer\\20201126_yun\\Hydrogen_lamp\\H_320000.nc\n",
      "\\\\10.249.254.51\\Public\\Kuzmin\\Experiments-Leprecon\\Spectrometer\\20201126_yun\\Hydrogen_lamp\\H_325000.nc\n",
      "\\\\10.249.254.51\\Public\\Kuzmin\\Experiments-Leprecon\\Spectrometer\\20201126_yun\\Hydrogen_lamp\\H_330000.nc\n",
      "\\\\10.249.254.51\\Public\\Kuzmin\\Experiments-Leprecon\\Spectrometer\\20201126_yun\\Hydrogen_lamp\\H_335000.nc\n",
      "\\\\10.249.254.51\\Public\\Kuzmin\\Experiments-Leprecon\\Spectrometer\\20201126_yun\\Hydrogen_lamp\\H_340000.nc\n",
      "\\\\10.249.254.51\\Public\\Kuzmin\\Experiments-Leprecon\\Spectrometer\\20201126_yun\\Hydrogen_lamp\\H_345000.nc\n",
      "\\\\10.249.254.51\\Public\\Kuzmin\\Experiments-Leprecon\\Spectrometer\\20201126_yun\\Hydrogen_lamp\\H_350000.nc\n",
      "\\\\10.249.254.51\\Public\\Kuzmin\\Experiments-Leprecon\\Spectrometer\\20201126_yun\\Hydrogen_lamp\\H_355000.nc\n",
      "\\\\10.249.254.51\\Public\\Kuzmin\\Experiments-Leprecon\\Spectrometer\\20201126_yun\\Hydrogen_lamp\\H_360000.nc\n",
      "\\\\10.249.254.51\\Public\\Kuzmin\\Experiments-Leprecon\\Spectrometer\\20201126_yun\\Hydrogen_lamp\\H_365000.nc\n",
      "\\\\10.249.254.51\\Public\\Kuzmin\\Experiments-Leprecon\\Spectrometer\\20201126_yun\\Hydrogen_lamp\\H_370000.nc\n",
      "\\\\10.249.254.51\\Public\\Kuzmin\\Experiments-Leprecon\\Spectrometer\\20201126_yun\\Hydrogen_lamp\\H_375000.nc\n",
      "\\\\10.249.254.51\\Public\\Kuzmin\\Experiments-Leprecon\\Spectrometer\\20201126_yun\\Hydrogen_lamp\\H_380000.nc\n",
      "\\\\10.249.254.51\\Public\\Kuzmin\\Experiments-Leprecon\\Spectrometer\\20201126_yun\\Hydrogen_lamp\\H_385000.nc\n",
      "\\\\10.249.254.51\\Public\\Kuzmin\\Experiments-Leprecon\\Spectrometer\\20201126_yun\\Hydrogen_lamp\\H_390000.nc\n",
      "\\\\10.249.254.51\\Public\\Kuzmin\\Experiments-Leprecon\\Spectrometer\\20201126_yun\\Hydrogen_lamp\\H_395000.nc\n",
      "\\\\10.249.254.51\\Public\\Kuzmin\\Experiments-Leprecon\\Spectrometer\\20201126_yun\\Hydrogen_lamp\\H_400000.nc\n",
      "\\\\10.249.254.51\\Public\\Kuzmin\\Experiments-Leprecon\\Spectrometer\\20201126_yun\\Hydrogen_lamp\\H_405000.nc\n",
      "\\\\10.249.254.51\\Public\\Kuzmin\\Experiments-Leprecon\\Spectrometer\\20201126_yun\\Hydrogen_lamp\\H_410000.nc\n",
      "\\\\10.249.254.51\\Public\\Kuzmin\\Experiments-Leprecon\\Spectrometer\\20201126_yun\\Hydrogen_lamp\\H_415000.nc\n",
      "\\\\10.249.254.51\\Public\\Kuzmin\\Experiments-Leprecon\\Spectrometer\\20201126_yun\\Hydrogen_lamp\\H_420000.nc\n",
      "\\\\10.249.254.51\\Public\\Kuzmin\\Experiments-Leprecon\\Spectrometer\\20201126_yun\\Hydrogen_lamp\\H_425000.nc\n",
      "\\\\10.249.254.51\\Public\\Kuzmin\\Experiments-Leprecon\\Spectrometer\\20201126_yun\\Hydrogen_lamp\\H_430000.nc\n",
      "\\\\10.249.254.51\\Public\\Kuzmin\\Experiments-Leprecon\\Spectrometer\\20201126_yun\\Hydrogen_lamp\\H_435000.nc\n",
      "\\\\10.249.254.51\\Public\\Kuzmin\\Experiments-Leprecon\\Spectrometer\\20201126_yun\\Hydrogen_lamp\\H_440000.nc\n",
      "\\\\10.249.254.51\\Public\\Kuzmin\\Experiments-Leprecon\\Spectrometer\\20201126_yun\\Hydrogen_lamp\\H_445000.nc\n",
      "\\\\10.249.254.51\\Public\\Kuzmin\\Experiments-Leprecon\\Spectrometer\\20201126_yun\\Hydrogen_lamp\\H_450000.nc\n",
      "\\\\10.249.254.51\\Public\\Kuzmin\\Experiments-Leprecon\\Spectrometer\\20201126_yun\\Hydrogen_lamp\\H_455000.nc\n",
      "\\\\10.249.254.51\\Public\\Kuzmin\\Experiments-Leprecon\\Spectrometer\\20201126_yun\\Hydrogen_lamp\\H_460000.nc\n",
      "\\\\10.249.254.51\\Public\\Kuzmin\\Experiments-Leprecon\\Spectrometer\\20201126_yun\\Hydrogen_lamp\\H_465000.nc\n",
      "\\\\10.249.254.51\\Public\\Kuzmin\\Experiments-Leprecon\\Spectrometer\\20201126_yun\\Hydrogen_lamp\\H_470000.nc\n",
      "\\\\10.249.254.51\\Public\\Kuzmin\\Experiments-Leprecon\\Spectrometer\\20201126_yun\\Hydrogen_lamp\\H_475000.nc\n",
      "\\\\10.249.254.51\\Public\\Kuzmin\\Experiments-Leprecon\\Spectrometer\\20201126_yun\\Hydrogen_lamp\\H_480000.nc\n",
      "\\\\10.249.254.51\\Public\\Kuzmin\\Experiments-Leprecon\\Spectrometer\\20201126_yun\\Hydrogen_lamp\\H_485000.nc\n",
      "\\\\10.249.254.51\\Public\\Kuzmin\\Experiments-Leprecon\\Spectrometer\\20201126_yun\\Hydrogen_lamp\\H_490000.nc\n",
      "\\\\10.249.254.51\\Public\\Kuzmin\\Experiments-Leprecon\\Spectrometer\\20201126_yun\\Hydrogen_lamp\\H_495000.nc\n",
      "\\\\10.249.254.51\\Public\\Kuzmin\\Experiments-Leprecon\\Spectrometer\\20201126_yun\\Hydrogen_lamp\\H_500000.nc\n",
      "\\\\10.249.254.51\\Public\\Kuzmin\\Experiments-Leprecon\\Spectrometer\\20201126_yun\\Hydrogen_lamp\\H_505000.nc\n",
      "\\\\10.249.254.51\\Public\\Kuzmin\\Experiments-Leprecon\\Spectrometer\\20201126_yun\\Hydrogen_lamp\\H_510000.nc\n",
      "\\\\10.249.254.51\\Public\\Kuzmin\\Experiments-Leprecon\\Spectrometer\\20201126_yun\\Hydrogen_lamp\\H_515000.nc\n",
      "\\\\10.249.254.51\\Public\\Kuzmin\\Experiments-Leprecon\\Spectrometer\\20201126_yun\\Hydrogen_lamp\\H_520000.nc\n",
      "\\\\10.249.254.51\\Public\\Kuzmin\\Experiments-Leprecon\\Spectrometer\\20201126_yun\\Hydrogen_lamp\\H_525000.nc\n",
      "\\\\10.249.254.51\\Public\\Kuzmin\\Experiments-Leprecon\\Spectrometer\\20201126_yun\\Hydrogen_lamp\\H_530000.nc\n",
      "\\\\10.249.254.51\\Public\\Kuzmin\\Experiments-Leprecon\\Spectrometer\\20201126_yun\\Hydrogen_lamp\\H_535000.nc\n",
      "\\\\10.249.254.51\\Public\\Kuzmin\\Experiments-Leprecon\\Spectrometer\\20201126_yun\\Hydrogen_lamp\\H_540000.nc\n",
      "\\\\10.249.254.51\\Public\\Kuzmin\\Experiments-Leprecon\\Spectrometer\\20201126_yun\\Hydrogen_lamp\\H_545000.nc\n",
      "\\\\10.249.254.51\\Public\\Kuzmin\\Experiments-Leprecon\\Spectrometer\\20201126_yun\\Hydrogen_lamp\\H_550000.nc\n",
      "\\\\10.249.254.51\\Public\\Kuzmin\\Experiments-Leprecon\\Spectrometer\\20201126_yun\\Hydrogen_lamp\\H_555000.nc\n",
      "\\\\10.249.254.51\\Public\\Kuzmin\\Experiments-Leprecon\\Spectrometer\\20201126_yun\\Hydrogen_lamp\\H_560000.nc\n",
      "\\\\10.249.254.51\\Public\\Kuzmin\\Experiments-Leprecon\\Spectrometer\\20201126_yun\\Hydrogen_lamp\\H_565000.nc\n",
      "\\\\10.249.254.51\\Public\\Kuzmin\\Experiments-Leprecon\\Spectrometer\\20201126_yun\\Hydrogen_lamp\\H_570000.nc\n",
      "\\\\10.249.254.51\\Public\\Kuzmin\\Experiments-Leprecon\\Spectrometer\\20201126_yun\\Hydrogen_lamp\\H_575000.nc\n",
      "\\\\10.249.254.51\\Public\\Kuzmin\\Experiments-Leprecon\\Spectrometer\\20201126_yun\\Hydrogen_lamp\\H_580000.nc\n",
      "\\\\10.249.254.51\\Public\\Kuzmin\\Experiments-Leprecon\\Spectrometer\\20201126_yun\\Hydrogen_lamp\\H_585000.nc\n",
      "\\\\10.249.254.51\\Public\\Kuzmin\\Experiments-Leprecon\\Spectrometer\\20201126_yun\\Hydrogen_lamp\\H_590000.nc\n",
      "\\\\10.249.254.51\\Public\\Kuzmin\\Experiments-Leprecon\\Spectrometer\\20201126_yun\\Hydrogen_lamp\\H_595000.nc\n"
     ]
    },
    {
     "name": "stdout",
     "output_type": "stream",
     "text": [
      "\\\\10.249.254.51\\Public\\Kuzmin\\Experiments-Leprecon\\Spectrometer\\20201126_yun\\Hydrogen_lamp\\H_600000.nc\n",
      "\\\\10.249.254.51\\Public\\Kuzmin\\Experiments-Leprecon\\Spectrometer\\20201126_yun\\Hydrogen_lamp\\H_605000.nc\n",
      "\\\\10.249.254.51\\Public\\Kuzmin\\Experiments-Leprecon\\Spectrometer\\20201126_yun\\Hydrogen_lamp\\H_610000.nc\n",
      "\\\\10.249.254.51\\Public\\Kuzmin\\Experiments-Leprecon\\Spectrometer\\20201126_yun\\Hydrogen_lamp\\H_615000.nc\n",
      "\\\\10.249.254.51\\Public\\Kuzmin\\Experiments-Leprecon\\Spectrometer\\20201126_yun\\Hydrogen_lamp\\H_620000.nc\n",
      "\\\\10.249.254.51\\Public\\Kuzmin\\Experiments-Leprecon\\Spectrometer\\20201126_yun\\Hydrogen_lamp\\H_625000.nc\n",
      "\\\\10.249.254.51\\Public\\Kuzmin\\Experiments-Leprecon\\Spectrometer\\20201126_yun\\Hydrogen_lamp\\H_630000.nc\n",
      "\\\\10.249.254.51\\Public\\Kuzmin\\Experiments-Leprecon\\Spectrometer\\20201126_yun\\Hydrogen_lamp\\H_635000.nc\n",
      "\\\\10.249.254.51\\Public\\Kuzmin\\Experiments-Leprecon\\Spectrometer\\20201126_yun\\Hydrogen_lamp\\H_640000.nc\n",
      "\\\\10.249.254.51\\Public\\Kuzmin\\Experiments-Leprecon\\Spectrometer\\20201126_yun\\Hydrogen_lamp\\H_645000.nc\n",
      "\\\\10.249.254.51\\Public\\Kuzmin\\Experiments-Leprecon\\Spectrometer\\20201126_yun\\Hydrogen_lamp\\H_650000.nc\n",
      "\\\\10.249.254.51\\Public\\Kuzmin\\Experiments-Leprecon\\Spectrometer\\20201126_yun\\Hydrogen_lamp\\H_655000.nc\n",
      "\\\\10.249.254.51\\Public\\Kuzmin\\Experiments-Leprecon\\Spectrometer\\20201126_yun\\Hydrogen_lamp\\H_660000.nc\n",
      "\\\\10.249.254.51\\Public\\Kuzmin\\Experiments-Leprecon\\Spectrometer\\20201126_yun\\Hydrogen_lamp\\H_665000.nc\n",
      "\\\\10.249.254.51\\Public\\Kuzmin\\Experiments-Leprecon\\Spectrometer\\20201126_yun\\Hydrogen_lamp\\H_670000.nc\n",
      "\\\\10.249.254.51\\Public\\Kuzmin\\Experiments-Leprecon\\Spectrometer\\20201126_yun\\Hydrogen_lamp\\H_675000.nc\n",
      "\\\\10.249.254.51\\Public\\Kuzmin\\Experiments-Leprecon\\Spectrometer\\20201126_yun\\Hydrogen_lamp\\H_680000.nc\n",
      "\\\\10.249.254.51\\Public\\Kuzmin\\Experiments-Leprecon\\Spectrometer\\20201126_yun\\Hydrogen_lamp\\H_685000.nc\n",
      "\\\\10.249.254.51\\Public\\Kuzmin\\Experiments-Leprecon\\Spectrometer\\20201126_yun\\Hydrogen_lamp\\H_690000.nc\n",
      "\\\\10.249.254.51\\Public\\Kuzmin\\Experiments-Leprecon\\Spectrometer\\20201126_yun\\Hydrogen_lamp\\H_695000.nc\n",
      "Done.\n"
     ]
    }
   ],
   "source": [
    "exposure = 1.0 * 1e3 # ms\n",
    "vbin = 1\n",
    "attributes = {\n",
    "    \"temperature\": camera.getTemperature(),\n",
    "    \"device_status\": camera.getDeviceStatus(),\n",
    "    \"exposure\": exposure,\n",
    "    \"frame_type\": \"light\",\n",
    "    \"motor_coordinate\":\"\",\n",
    "}\n",
    "\n",
    "\n",
    "#R = [430000 + i*5000 for i in range(10)] #fulcher-alpha\n",
    "#R = [700000 + i*10000 for i in range(10)]\n",
    "R = [200000 + i*5000 for i in range(100)]\n",
    "for r in log_progress(R):\n",
    "    step_motor.goto(r)\n",
    "    step_motor.waitUntilReady()\n",
    "    attributes['motor_coordinate'] = r\n",
    "    \n",
    "    camera.setExposureTime(exposure)\n",
    "    camera.setVBin(vbin)\n",
    "    camera.setImageArea(10,0,2058,512//vbin)\n",
    "    time.sleep(.5)\n",
    "    camera.exposeFrame()\n",
    "    time.sleep(.1)\n",
    "    # load image\n",
    "    image_data = camera.grabFrame(out=np.empty((512//vbin,2048), np.uint16))\n",
    "    # convert to xarray\n",
    "    data = xr.DataArray(\n",
    "        image_data, dims=[\"y\", \"x\"], coords={\"image_counter\": 0}, attrs=attributes\n",
    "    )\n",
    "    # save data as NetCDF file\n",
    "    filepath = join(basepath,f'H_{r}.nc')\n",
    "    print(filepath)\n",
    "    data.to_netcdf(filepath)\n",
    "print('Done.')"
   ]
  },
  {
   "cell_type": "code",
   "execution_count": 8,
   "metadata": {},
   "outputs": [
    {
     "data": {
      "text/plain": [
       "[430000,\n",
       " 435000,\n",
       " 440000,\n",
       " 445000,\n",
       " 450000,\n",
       " 455000,\n",
       " 460000,\n",
       " 465000,\n",
       " 470000,\n",
       " 475000]"
      ]
     },
     "execution_count": 8,
     "metadata": {},
     "output_type": "execute_result"
    }
   ],
   "source": [
    "[430000 + i*5000 for i in range(10)]"
   ]
  },
  {
   "cell_type": "code",
   "execution_count": null,
   "metadata": {},
   "outputs": [],
   "source": []
  }
 ],
 "metadata": {
  "kernelspec": {
   "display_name": "Python 3",
   "language": "python",
   "name": "python3"
  },
  "language_info": {
   "codemirror_mode": {
    "name": "ipython",
    "version": 3
   },
   "file_extension": ".py",
   "mimetype": "text/x-python",
   "name": "python",
   "nbconvert_exporter": "python",
   "pygments_lexer": "ipython3",
   "version": "3.7.6"
  }
 },
 "nbformat": 4,
 "nbformat_minor": 4
}
