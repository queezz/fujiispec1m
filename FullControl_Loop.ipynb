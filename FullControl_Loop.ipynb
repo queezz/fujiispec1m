{
 "cells": [
  {
   "cell_type": "markdown",
   "metadata": {},
   "source": [
    "# Spectra acquisiton\n",
    "Control both the stepping motor and the camera from this notebook.<br>\n",
    "Make a loop to measure a wide-range spectrum automatically.\n",
    "\n",
    "NOTE: only one connection to COM port is possible at a time. Shut down other connections, either in python or dedicated software."
   ]
  },
  {
   "cell_type": "code",
   "execution_count": 1,
   "metadata": {},
   "outputs": [
    {
     "name": "stdout",
     "output_type": "stream",
     "text": [
      "Populating the interactive namespace from numpy and matplotlib\n"
     ]
    }
   ],
   "source": [
    "%pylab inline"
   ]
  },
  {
   "cell_type": "code",
   "execution_count": 2,
   "metadata": {},
   "outputs": [],
   "source": [
    "from FLI import FLI\n",
    "import numpy as np\n",
    "import thr640\n",
    "import time\n",
    "import logging\n",
    "import csv\n",
    "import xarray as xr"
   ]
  },
  {
   "cell_type": "code",
   "execution_count": 5,
   "metadata": {},
   "outputs": [],
   "source": [
    "# logger\n",
    "logger = thr640.logger\n",
    "logger.setLevel() # 10 - DEBUG 50 - CRITICAL 20 - INFO\n",
    "camera = FLI()\n",
    "step_motor = thr640.THR640()"
   ]
  },
  {
   "cell_type": "code",
   "execution_count": 4,
   "metadata": {},
   "outputs": [],
   "source": [
    "#step_motor.goto(490000)\n",
    "#step_motor.waitUntilReady()"
   ]
  },
  {
   "cell_type": "code",
   "execution_count": 8,
   "metadata": {},
   "outputs": [
    {
     "name": "stderr",
     "output_type": "stream",
     "text": [
      "2020-08-21 21:20:54,400:INFO:getting status...\n",
      "2020-08-21 21:21:01,280:INFO:Move to +490000\n",
      "2020-08-21 21:21:01,394:INFO:getting status...\n",
      "2020-08-21 21:21:07,436:INFO:getting status...\n",
      "2020-08-21 21:21:18,537:INFO:getting status...\n",
      "2020-08-21 21:21:25,437:INFO:Move to +491000\n",
      "2020-08-21 21:21:25,538:INFO:getting status...\n",
      "2020-08-21 21:21:31,594:INFO:getting status...\n",
      "2020-08-21 21:21:42,679:INFO:getting status...\n",
      "2020-08-21 21:21:49,547:INFO:Move to +492000\n",
      "2020-08-21 21:21:49,650:INFO:getting status...\n",
      "2020-08-21 21:21:55,689:INFO:getting status...\n"
     ]
    },
    {
     "data": {
      "text/plain": [
       "<Figure size 432x288 with 0 Axes>"
      ]
     },
     "metadata": {},
     "output_type": "display_data"
    }
   ],
   "source": [
    "%run imaging_tool.py\n",
    "\n",
    "exposure = 1 * 1e3 # ms\n",
    "vbin = 1\n",
    "attributes = {\n",
    "    \"temperature\": camera.getTemperature(),\n",
    "    \"device_status\": camera.getDeviceStatus(),\n",
    "    \"exposure\": exposure,\n",
    "    \"frame_type\": \"light\",\n",
    "}\n",
    "\n",
    "for i in range(3):\n",
    "    step_motor.goto(490000 + i*1000)\n",
    "    step_motor.waitUntilReady()\n",
    "    \n",
    "    camera.setExposureTime(exposure)\n",
    "    camera.setVBin(vbin)\n",
    "    camera.setImageArea(10,0,2058,512//vbin)\n",
    "    time.sleep(.5)\n",
    "    camera.exposeFrame()\n",
    "    time.sleep(.1)\n",
    "    # load image\n",
    "    image_data = camera.grabFrame(out=np.empty((512//vbin,2048), np.uint16))\n",
    "    # convert to xarray\n",
    "    data = xr.DataArray(\n",
    "        image_data, dims=[\"y\", \"x\"], coords={\"image_counter\": 0}, attrs=attributes\n",
    "    )\n",
    "    # save data as NetCDF file\n",
    "    filepath = f'test{i}.nc'\n",
    "    data.to_netcdf(filepath)"
   ]
  },
  {
   "cell_type": "code",
   "execution_count": 14,
   "metadata": {},
   "outputs": [
    {
     "data": {
      "text/plain": [
       "<matplotlib.image.AxesImage at 0x25629289608>"
      ]
     },
     "execution_count": 14,
     "metadata": {},
     "output_type": "execute_result"
    },
    {
     "data": {
      "image/png": "[encoded data removed]",
      "text/plain": [
       "<Figure size 432x288 with 1 Axes>"
      ]
     },
     "metadata": {
      "needs_background": "light"
     },
     "output_type": "display_data"
    }
   ],
   "source": [
    "ds_disk = xr.open_dataset('test2.nc')\n",
    "a = ds_disk.to_array()\n",
    "imshow(a[0])"
   ]
  }
 ],
 "metadata": {
  "kernelspec": {
   "display_name": "Python 3",
   "language": "python",
   "name": "python3"
  },
  "language_info": {
   "codemirror_mode": {
    "name": "ipython",
    "version": 3
   },
   "file_extension": ".py",
   "mimetype": "text/x-python",
   "name": "python",
   "nbconvert_exporter": "python",
   "pygments_lexer": "ipython3",
   "version": "3.7.6"
  }
 },
 "nbformat": 4,
 "nbformat_minor": 4
}
